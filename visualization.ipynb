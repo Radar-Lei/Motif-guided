{
 "cells": [
  {
   "cell_type": "code",
   "execution_count": 1,
   "metadata": {},
   "outputs": [],
   "source": [
    "import matplotlib.pyplot as plt\n",
    "import matplotlib.patches as patches\n",
    "import seaborn as sns\n",
    "import matplotlib as mpl\n",
    "import graph_tool.all as gt\n",
    "import numpy as np\n",
    "import random\n",
    "\n",
    "# make sure the text is not rendered as paths, but as editable text\n",
    "mpl.rcParams['svg.fonttype'] = 'none'"
   ]
  },
  {
   "cell_type": "markdown",
   "metadata": {},
   "source": [
    "#### Self-attention diagram (single row without embedding representation)"
   ]
  },
  {
   "cell_type": "code",
   "execution_count": null,
   "metadata": {},
   "outputs": [],
   "source": [
    "sns.color_palette('tab20')"
   ]
  },
  {
   "cell_type": "code",
   "execution_count": null,
   "metadata": {},
   "outputs": [],
   "source": [
    "# 定义序列的长度\n",
    "N = 24\n",
    "\n",
    "# 创建新的figure和axes\n",
    "fig, ax = plt.subplots()\n",
    "\n",
    "# 设置图形的宽高比\n",
    "ax.set_aspect('equal')\n",
    "\n",
    "# 获取seaborn的调色板\n",
    "palette = sns.color_palette()\n",
    "\n",
    "# 画出两个序列的正方形\n",
    "for i in range(N):\n",
    "    # 创建一个正方形，位置在(i, 0)和(i, 3)，大小为1x1\n",
    "    rect1 = patches.Rectangle((i, 0), 1, 1, edgecolor=palette[2], facecolor=list(palette[2]) + [0.2])\n",
    "    rect2 = patches.Rectangle((i, 5), 1, 1, edgecolor=palette[0], facecolor=list(palette[0]) + [0.2])\n",
    "\n",
    "    # 将正方形添加到图形中\n",
    "    ax.add_patch(rect1)\n",
    "    ax.add_patch(rect2)\n",
    "\n",
    "# 画出连接两个序列的线\n",
    "for i in range(N):\n",
    "    for j in range(N):\n",
    "        # 创建一条线，从序列A的第i个元素的上边到序列B的第j个元素的下边\n",
    "        ax.plot([i+0.5, j+0.5], [1, 5], color='black', linewidth=0.05, alpha=0.4)\n",
    "\n",
    "# 设置坐标轴的范围\n",
    "ax.set_xlim(0, N+0.1)\n",
    "ax.set_ylim(-0.1, 6)\n",
    "\n",
    "# 隐藏坐标轴\n",
    "ax.axis('off')\n",
    "\n",
    "# 显示图形\n",
    "plt.show()\n",
    "\n",
    "# 保存图形为svg\n",
    "fig.savefig(\"figs/self_attention.svg\", format='svg')"
   ]
  },
  {
   "cell_type": "markdown",
   "metadata": {},
   "source": [
    "#### Self-attention diagram (multiple rows with embedding representation)"
   ]
  },
  {
   "cell_type": "code",
   "execution_count": null,
   "metadata": {},
   "outputs": [],
   "source": [
    "# 定义序列的长度\n",
    "N = 24\n",
    "\n",
    "# 创建新的figure和axes\n",
    "fig, ax = plt.subplots()\n",
    "\n",
    "# 设置图形的宽高比\n",
    "ax.set_aspect('equal')\n",
    "\n",
    "# 获取seaborn的调色板\n",
    "palette = sns.color_palette()\n",
    "\n",
    "# 画出两个序列的正方形，现在每个序列有三行\n",
    "for i in range(N):\n",
    "    # 对于rect1，创建三个正方形，位置分别在(i, 0)，(i, 1)，和(i, 2)\n",
    "    for y_offset in [0, 1, 2]:\n",
    "        rect1 = patches.Rectangle((i, y_offset), 1, 1, edgecolor=palette[2], facecolor=list(palette[2]) + [0.2])\n",
    "        ax.add_patch(rect1)\n",
    "    \n",
    "    # 对于rect2，创建三个正方形，位置分别在(i, 3)，(i, 4)，和(i, 5)\n",
    "    for y_offset in [6, 7, 8]:\n",
    "        rect2 = patches.Rectangle((i, y_offset), 1, 1, edgecolor=palette[0], facecolor=list(palette[0]) + [0.2])\n",
    "        ax.add_patch(rect2)\n",
    "\n",
    "# 由于现在rect2的行数增加了，需要调整连接线的代码和坐标轴的范围\n",
    "for i in range(N):\n",
    "    for j in range(N):\n",
    "        # 连接第一行和第四行\n",
    "        ax.plot([i+0.5, j+0.5], [3, 6], color=\"black\", linewidth=0.1, alpha=0.5)\n",
    "\n",
    "# 调整坐标轴的范围以适应新增的行\n",
    "ax.set_xlim(0, N+0.1)\n",
    "ax.set_ylim(-0.1, 9)  # 更新y轴的范围以包含新增的行\n",
    "\n",
    "# 其余代码保持不变\n",
    "\n",
    "# 隐藏坐标轴\n",
    "ax.axis('off')\n",
    "\n",
    "# 显示图形\n",
    "plt.show()\n",
    "\n",
    "# 保存图形为svg\n",
    "fig.savefig(\"figs/self-attention.svg\", format='svg')"
   ]
  },
  {
   "cell_type": "markdown",
   "metadata": {},
   "source": [
    "#### Motif attention diagram (single row without embedding representation)"
   ]
  },
  {
   "cell_type": "code",
   "execution_count": null,
   "metadata": {},
   "outputs": [],
   "source": [
    "# 定义序列的长度\n",
    "N = 24\n",
    "\n",
    "# 创建新的figure和axes\n",
    "fig, ax = plt.subplots()\n",
    "\n",
    "# 设置图形的宽高比\n",
    "ax.set_aspect('equal')\n",
    "\n",
    "# 获取seaborn的调色板\n",
    "palette = sns.color_palette()\n",
    "\n",
    "# 画出两个序列的正方形\n",
    "for i in range(N):\n",
    "    # 创建一个正方形，位置在(i, 0)和(i, 3)，大小为1x1\n",
    "    rect1 = patches.Rectangle((i, 0), 1, 1, edgecolor=palette[2], facecolor=list(palette[2]) + [0.2])\n",
    "    rect2 = patches.Rectangle((i, 5), 1, 1, edgecolor=palette[0], facecolor=list(palette[0]) + [0.2])\n",
    "\n",
    "    # 将正方形添加到图形中\n",
    "    ax.add_patch(rect1)\n",
    "    ax.add_patch(rect2)\n",
    "\n",
    "# 定义正方形的类别\n",
    "classes = {\n",
    "    (0, 1, 2, 3, 4, 5): (0, 1, 2, 3, 4, 5, 12, 13, 14, 15, 16, 17),\n",
    "    (6,7,8,9): (6,7,8,9, 18,19,20,21),\n",
    "    (10,11): (10,11,22, 23),\n",
    "    (12, 13, 14, 15, 16, 17) : (0, 1, 2, 3, 4, 5, 12, 13, 14, 15, 16, 17),\n",
    "    (18,19,20,21) : (6,7,8,9, 18,19,20,21),\n",
    "    (22, 23) : (10,11,22, 23),\n",
    "}\n",
    "\n",
    "\n",
    "# 画出连接两个序列的线\n",
    "for i in range(N):\n",
    "    for j in range(N):\n",
    "        # 检查两个正方形是否属于同一类\n",
    "        for a_indices, b_indices in classes.items():\n",
    "            if i in a_indices and j in b_indices:\n",
    "                # 创建一条线，从序列A的第i个元素的上边到序列B的第j个元素的下边\n",
    "                ax.plot([i+0.5, j+0.5], [1, 5], color=\"black\", linewidth=0.05,alpha=0.4)\n",
    "\n",
    "# 设置坐标轴的范围\n",
    "ax.set_xlim(0, N+0.1)\n",
    "ax.set_ylim(-0.1, 6)\n",
    "\n",
    "# 隐藏坐标轴\n",
    "ax.axis('off')\n",
    "\n",
    "# 显示图形\n",
    "plt.show()\n",
    "\n",
    "# 保存图形为svg\n",
    "fig.savefig(\"figs/motif_attention.svg\", format='svg')"
   ]
  },
  {
   "cell_type": "markdown",
   "metadata": {},
   "source": [
    "### Trajectory plot as directed graph"
   ]
  },
  {
   "cell_type": "code",
   "execution_count": null,
   "metadata": {},
   "outputs": [],
   "source": [
    "g = gt.Graph(\n",
    "    [\n",
    "        (0, 1), (1, 2), (2,0), (0, 3), (3,0),(0,4),(4,5),(5,6),(6,4),(4,7),(7,4),(4,0),\n",
    "        (7, 8),(8, 7),(7, 9),(9, 10),(10, 11),(11,9),(9,12),(12,13),(13,14),(14,13),(13,15),(15,16),(16,13)\n",
    "    ]\n",
    "        )"
   ]
  },
  {
   "cell_type": "code",
   "execution_count": null,
   "metadata": {},
   "outputs": [],
   "source": [
    "elabels = g.new_edge_property(\"int\")\n",
    "elabels.a = np.arange(len(np.array(g.edge_index))) + 1\n",
    "pos = gt.sfdp_layout(g)\n",
    "gt.graph_draw(g, pos=pos, edge_text=elabels, vertex_fill_color='grey', vertex_size=30, output=\"figs/ori_traj.svg\")\n",
    "gt.graph_draw(g, pos=pos, edge_text=elabels, vertex_fill_color='grey', vertex_size=30)"
   ]
  },
  {
   "cell_type": "code",
   "execution_count": null,
   "metadata": {},
   "outputs": [],
   "source": [
    "subgraph = gt.Graph([(0, 1), (1, 2), (2,0), (0, 3), (3,0),(0,4),(4,5),(5,6),(6,4),(4,7),(7,4),(4,0)])\n",
    "elabels = subgraph.new_edge_property(\"int\")\n",
    "elabels.a = np.arange(len(np.array(subgraph.edge_index))) + 1\n",
    "gt.graph_draw(subgraph, pos=pos, edge_text=elabels, vertex_fill_color='grey', output=\"figs/sub_traj.svg\")\n",
    "gt.graph_draw(subgraph, pos=pos, edge_text=elabels, vertex_fill_color='grey')"
   ]
  },
  {
   "cell_type": "markdown",
   "metadata": {},
   "source": [
    "### Attention or tenor matrix (scratch version)"
   ]
  },
  {
   "cell_type": "code",
   "execution_count": null,
   "metadata": {},
   "outputs": [],
   "source": [
    "# Define the size of the square and the number of smaller squares\n",
    "square_size = 10\n",
    "num_squares = 10\n",
    "gap_width = 1  # 设置空白的宽度\n",
    "\n",
    "colormap = plt.cm.get_cmap('tab10')\n",
    "first_color = colormap.colors[0]\n",
    "# Create a figure and axis\n",
    "fig, ax = plt.subplots()\n",
    "\n",
    "# Loop through each row and column to draw the smaller squares\n",
    "for i in range(num_squares):\n",
    "    for j in range(num_squares):\n",
    "        # Calculate the coordinates of the current smaller square\n",
    "        x = i * (square_size + gap_width)  # 添加偏移量\n",
    "        y = j * (square_size + gap_width)  # 添加偏移量\n",
    "        \n",
    "        # Draw the smaller square with black edges\n",
    "        ax.add_patch(plt.Rectangle((x, y), square_size, square_size, facecolor=first_color, edgecolor='black'))\n",
    "\n",
    "# Set the aspect ratio to equal to make each patch a square\n",
    "ax.set_aspect('equal')\n",
    "\n",
    "# Set the limits of the plot\n",
    "ax.set_xlim(0, square_size * num_squares + gap_width * (num_squares - 1))  # 调整x轴的范围\n",
    "ax.set_ylim(0, square_size * num_squares + gap_width * (num_squares - 1))  # 调整y轴的范围\n",
    "\n",
    "# Remove the axis ticks and labels\n",
    "ax.set_xticks([])\n",
    "ax.set_yticks([])\n",
    "\n",
    "# Show the plot\n",
    "plt.show()\n",
    "fig.savefig('figs/test.svg')\n"
   ]
  },
  {
   "cell_type": "code",
   "execution_count": null,
   "metadata": {},
   "outputs": [],
   "source": [
    "import matplotlib.pyplot as plt\n",
    "\n",
    "# Define the size of the square and the number of smaller squares\n",
    "square_size = 30\n",
    "num_squares = 10  # Adjusted number of squares\n",
    "gap_width = 1  # Gap width\n",
    "\n",
    "# Calculate the total figure size needed to accommodate all squares and gaps\n",
    "total_size = num_squares * square_size + (num_squares - 1) * gap_width\n",
    "fig_size = total_size / plt.rcParams['figure.dpi']  # Convert size in pixels to inches\n",
    "\n",
    "# Create a figure with the dynamically adjusted size\n",
    "fig, ax = plt.subplots(figsize=(fig_size, fig_size))\n",
    "\n",
    "colormap = plt.cm.get_cmap('tab10')\n",
    "first_color = colormap.colors[0]\n",
    "\n",
    "# Loop through each row and column to draw the smaller squares\n",
    "for i in range(num_squares):\n",
    "    for j in range(num_squares):\n",
    "        x = i * (square_size + gap_width)\n",
    "        y = j * (square_size + gap_width)\n",
    "        ax.add_patch(plt.Rectangle((x, y), square_size, square_size, facecolor=first_color, edgecolor='black'))\n",
    "\n",
    "# Set the aspect ratio to equal and adjust plot limits\n",
    "ax.set_aspect('equal')\n",
    "ax.set_xlim(0, total_size)\n",
    "ax.set_ylim(0, total_size)\n",
    "\n",
    "# Remove the axis ticks and labels\n",
    "ax.set_xticks([])\n",
    "ax.set_yticks([])\n",
    "\n",
    "# Show the plot\n",
    "plt.show()\n",
    "fig.savefig('figs/test.svg')"
   ]
  },
  {
   "cell_type": "code",
   "execution_count": null,
   "metadata": {},
   "outputs": [],
   "source": [
    "# Define the size of the square, the number of smaller squares, and the gap width\n",
    "square_size = 10\n",
    "num_squares = 24  # This can be adjusted\n",
    "gap_width = 1  # Adjusted gap width\n",
    "\n",
    "# Calculate the total size needed to accommodate all squares and gaps\n",
    "total_size = num_squares * square_size + (num_squares - 1) * gap_width\n",
    "fig_size = total_size / plt.rcParams['figure.dpi']  # Convert size in pixels to inches\n",
    "\n",
    "# Create a figure with the dynamically adjusted size\n",
    "fig, ax = plt.subplots(figsize=(fig_size, fig_size))\n",
    "\n",
    "colormap = plt.cm.get_cmap('tab10')\n",
    "first_color = colormap.colors[0]\n",
    "\n",
    "# Loop through each row and column to draw the smaller squares\n",
    "for i in range(num_squares):\n",
    "    for j in range(num_squares):\n",
    "        x = i * (square_size + gap_width)\n",
    "        y = j * (square_size + gap_width)\n",
    "        ax.add_patch(plt.Rectangle((x, y), square_size, square_size, facecolor=first_color, edgecolor='black'))\n",
    "\n",
    "# Set the aspect ratio to equal and adjust plot limits\n",
    "ax.set_aspect('equal')\n",
    "ax.set_xlim(0, total_size)\n",
    "ax.set_ylim(0, total_size)\n",
    "\n",
    "# Remove the axis ticks and labels\n",
    "ax.set_xticks([])\n",
    "ax.set_yticks([])\n",
    "\n",
    "# Show the plot\n",
    "plt.show()\n",
    "fig.savefig('figs/test.svg')"
   ]
  },
  {
   "cell_type": "markdown",
   "metadata": {},
   "source": [
    "### 2D tensor or attention matrix (Function based version)"
   ]
  },
  {
   "cell_type": "code",
   "execution_count": null,
   "metadata": {},
   "outputs": [],
   "source": [
    "def plot_colored_grid(data, cmap, bounds=[0, 0.5, 1], grid=True, labels=False, frame=True, fig_name='universal_motif_mask'):\n",
    "    \"\"\"Plot 2d matrix with grid with well-defined colors for specific boundary values.\n",
    "\n",
    "    :param data: 2d matrix\n",
    "    :param colors: colors\n",
    "    :param bounds: bounds between which the respective color will be plotted\n",
    "    :param grid: whether grid should be plotted\n",
    "    :param labels: whether labels should be plotted\n",
    "    :param frame: whether frame should be plotted\n",
    "    \"\"\"\n",
    "\n",
    "    # create discrete colormap\n",
    "    norm = mpl.colors.BoundaryNorm(bounds, cmap.N)\n",
    "\n",
    "    # enable or disable frame\n",
    "    plt.figure(frameon=frame)\n",
    "\n",
    "    # show grid\n",
    "    if grid:\n",
    "        plt.grid(axis='both', color='k', linewidth=2) \n",
    "        plt.xticks(np.arange(0.5, data.shape[1], 1))  # correct grid sizes\n",
    "        plt.yticks(np.arange(0.5, data.shape[0], 1))\n",
    "\n",
    "    # disable labels\n",
    "    if not labels:\n",
    "        plt.tick_params(bottom=False, top=False, left=False, right=False, labelbottom=False, labelleft=False) \n",
    "    # plot data matrix\n",
    "    plt.imshow(data, cmap=cmap, norm=norm)\n",
    "\n",
    "    # display main axis \n",
    "    plt.savefig('figs/{}.svg'.format(fig_name))\n",
    "    plt.show()\n",
    "    "
   ]
  },
  {
   "cell_type": "markdown",
   "metadata": {},
   "source": [
    "##### minimal example of a 2D tensor or attention matrix"
   ]
  },
  {
   "cell_type": "code",
   "execution_count": null,
   "metadata": {},
   "outputs": [],
   "source": [
    "data = np.array([\n",
    "    [10, 12, 24],\n",
    "    [5, 2, 33],\n",
    "    [27, 36, 15]\n",
    "])\n",
    "\n",
    "\n",
    "original_cmap = mpl.colormaps['tab10']\n",
    "# based on the bounds we need 4 colors\n",
    "selected_colors = [original_cmap(i) for i in [0, 1, 2]]\n",
    "# 使用选定的颜色创建新的ListedColormap\n",
    "new_cmap = mpl.colors.ListedColormap(selected_colors)\n",
    "\n",
    "\n",
    "plot_colored_grid(data, cmap=new_cmap, bounds=[0, 10, 20, 30, 40])"
   ]
  },
  {
   "cell_type": "markdown",
   "metadata": {},
   "source": [
    "##### Motif-masked attention matrix"
   ]
  },
  {
   "cell_type": "code",
   "execution_count": null,
   "metadata": {},
   "outputs": [],
   "source": [
    "# 创建一个24x24的零矩阵\n",
    "matrix = np.zeros((24, 24))\n",
    "\n",
    "# 定义子方阵的边界\n",
    "first_class_bounds = [(0, 6), (12, 18)]\n",
    "second_class_bounds = [(6, 10), (18, 22)]\n",
    "third_class_bounds = [(10, 12), (22, 24)]\n",
    "\n",
    "# attention in the same instance of the same motif type\n",
    "for start, end in first_class_bounds:\n",
    "    for i in range(start, end):\n",
    "        for j in range(start, end):\n",
    "            matrix[i, j] = 1\n",
    "\n",
    "# attention between different instances of the same motif type\n",
    "for i_start, i_end in first_class_bounds:\n",
    "    for j_start, j_end in first_class_bounds:\n",
    "        for i in range(i_start, i_end):\n",
    "            for j in range(j_start, j_end):\n",
    "                if i not in range(j_start, j_end):\n",
    "                    matrix[i, j] =2\n",
    "\n",
    "# \n",
    "for start, end in second_class_bounds:\n",
    "    for i in range(start, end):\n",
    "        for j in range(start, end):\n",
    "            matrix[i, j] = 3\n",
    "\n",
    "for i_start, i_end in second_class_bounds:\n",
    "    for j_start, j_end in second_class_bounds:\n",
    "        for i in range(i_start, i_end):\n",
    "            for j in range(j_start, j_end):\n",
    "                if i not in range(j_start, j_end):\n",
    "                    matrix[i, j] = 4\n",
    "\n",
    "# 填充第三类子方阵\n",
    "for start, end in third_class_bounds:\n",
    "    for i in range(start, end):\n",
    "        for j in range(start, end):\n",
    "            matrix[i, j] = 5\n",
    "\n",
    "for i_start, i_end in third_class_bounds:\n",
    "    for j_start, j_end in third_class_bounds:\n",
    "        for i in range(i_start, i_end):\n",
    "            for j in range(j_start, j_end):\n",
    "                if i not in range(j_start, j_end):\n",
    "                    matrix[i, j] = 6\n",
    "\n",
    "original_cmap = mpl.colormaps['tab20']\n",
    "\n",
    "selected_colors = [(1, 1, 1, 1)] + [original_cmap(i) for i in [0, 1, 2, 3, 4, 5]]\n",
    "\n",
    "new_cmap = mpl.colors.ListedColormap(selected_colors)\n",
    "\n",
    "plot_colored_grid(matrix, cmap=new_cmap, bounds=[0, 1, 2, 3, 4, 5, 6, 7])"
   ]
  },
  {
   "cell_type": "markdown",
   "metadata": {},
   "source": [
    "#### Motif mask matrix without grids"
   ]
  },
  {
   "cell_type": "code",
   "execution_count": 3,
   "metadata": {},
   "outputs": [
    {
     "data": {
      "image/png": "[encoded data removed]",
      "text/plain": [
       "<Figure size 640x480 with 1 Axes>"
      ]
     },
     "metadata": {},
     "output_type": "display_data"
    }
   ],
   "source": [
    "def plot_colored(data, cmap, bounds=[0, 0.5, 1], grid=True, labels=False, frame=True, fig_name='universal_motif_mask'):\n",
    "    \"\"\"Plot 2d matrix with grid with well-defined colors for specific boundary values, ensuring colors are editable in SVG.\n",
    "\n",
    "    :param data: 2d matrix\n",
    "    :param cmap: colormap\n",
    "    :param bounds: bounds between which the respective color will be plotted\n",
    "    :param grid: whether grid should be plotted\n",
    "    :param labels: whether labels should be plotted\n",
    "    :param frame: whether frame should be plotted\n",
    "    :param fig_name: name of the figure file\n",
    "    \"\"\"\n",
    "\n",
    "    # Create discrete colormap\n",
    "    norm = mpl.colors.BoundaryNorm(bounds, cmap.N)\n",
    "    fig, ax = plt.subplots()\n",
    "    ax.set_aspect('equal')\n",
    "\n",
    "    # Enable or disable frame\n",
    "    ax.set_frame_on(frame)\n",
    "\n",
    "    # Plot each cell as a rectangle with the appropriate color\n",
    "    for (i, j), val in np.ndenumerate(data):\n",
    "        color = cmap(norm(val))\n",
    "        rect = patches.Rectangle((j, i), 1, 1, linewidth=0, edgecolor='none', facecolor=color)\n",
    "        ax.add_patch(rect)\n",
    "\n",
    "    # Set the limits based on the data size\n",
    "    ax.set_xlim(0, data.shape[1])\n",
    "    ax.set_ylim(0, data.shape[0])\n",
    "    ax.invert_yaxis()\n",
    "\n",
    "    # Show grid\n",
    "    if grid:\n",
    "        ax.set_xticks(np.arange(data.shape[1]), minor=True)\n",
    "        ax.set_yticks(np.arange(data.shape[0]), minor=True)\n",
    "        ax.grid(which=\"minor\", color=\"k\", linestyle='-', linewidth=2)\n",
    "        ax.tick_params(which=\"minor\", size=0)\n",
    "\n",
    "    # Disable labels if required\n",
    "    if not labels:\n",
    "        ax.tick_params(bottom=False, top=False, left=False, right=False, labelbottom=False, labelleft=False)\n",
    "\n",
    "    # Save and show the figure\n",
    "    plt.savefig(f'figs/{fig_name}.svg', format='svg')\n",
    "    plt.show()\n",
    "\n",
    "# 创建一个24x24的零矩阵\n",
    "matrix = np.zeros((36, 36))\n",
    "\n",
    "# 定义子方阵的边界\n",
    "first_class_bounds = [(0, 6), (12, 18),(24, 30)]\n",
    "second_class_bounds = [(6, 10), (18, 22), (30, 34)]\n",
    "third_class_bounds = [(10, 12), (22, 24), (34, 36)]\n",
    "\n",
    "# attention in the same instance of the same motif type\n",
    "for start, end in first_class_bounds:\n",
    "    for i in range(start, end):\n",
    "        for j in range(start, end):\n",
    "            matrix[i, j] = 1\n",
    "\n",
    "# attention between different instances of the same motif type\n",
    "for i_start, i_end in first_class_bounds:\n",
    "    for j_start, j_end in first_class_bounds:\n",
    "        for i in range(i_start, i_end):\n",
    "            for j in range(j_start, j_end):\n",
    "                if i not in range(j_start, j_end):\n",
    "                    matrix[i, j] =2\n",
    "\n",
    "# \n",
    "for start, end in second_class_bounds:\n",
    "    for i in range(start, end):\n",
    "        for j in range(start, end):\n",
    "            matrix[i, j] = 3\n",
    "\n",
    "for i_start, i_end in second_class_bounds:\n",
    "    for j_start, j_end in second_class_bounds:\n",
    "        for i in range(i_start, i_end):\n",
    "            for j in range(j_start, j_end):\n",
    "                if i not in range(j_start, j_end):\n",
    "                    matrix[i, j] = 4\n",
    "\n",
    "# 填充第三类子方阵\n",
    "for start, end in third_class_bounds:\n",
    "    for i in range(start, end):\n",
    "        for j in range(start, end):\n",
    "            matrix[i, j] = 5\n",
    "\n",
    "for i_start, i_end in third_class_bounds:\n",
    "    for j_start, j_end in third_class_bounds:\n",
    "        for i in range(i_start, i_end):\n",
    "            for j in range(j_start, j_end):\n",
    "                if i not in range(j_start, j_end):\n",
    "                    matrix[i, j] = 6\n",
    "\n",
    "original_cmap = mpl.colormaps['tab20']\n",
    "\n",
    "selected_colors = [(1, 1, 1, 1)] + [original_cmap(i) for i in [0, 1, 2, 3, 4, 5]]\n",
    "\n",
    "new_cmap = mpl.colors.ListedColormap(selected_colors)\n",
    "\n",
    "plot_colored(matrix, cmap=new_cmap, grid=False, bounds=[0, 1, 2, 3, 4, 5, 6, 7], fig_name='motif_mask_large')"
   ]
  },
  {
   "cell_type": "markdown",
   "metadata": {},
   "source": [
    "#### Motif mask matrix permutation"
   ]
  },
  {
   "cell_type": "code",
   "execution_count": 10,
   "metadata": {},
   "outputs": [
    {
     "data": {
      "image/png": "[encoded data removed]",
      "text/plain": [
       "<Figure size 640x480 with 1 Axes>"
      ]
     },
     "metadata": {},
     "output_type": "display_data"
    },
    {
     "data": {
      "image/png": "[encoded data removed]",
      "text/plain": [
       "<Figure size 640x480 with 1 Axes>"
      ]
     },
     "metadata": {},
     "output_type": "display_data"
    },
    {
     "data": {
      "image/png": "[encoded data removed]",
      "text/plain": [
       "<Figure size 640x480 with 1 Axes>"
      ]
     },
     "metadata": {},
     "output_type": "display_data"
    },
    {
     "data": {
      "image/png": "[encoded data removed]",
      "text/plain": [
       "<Figure size 640x480 with 1 Axes>"
      ]
     },
     "metadata": {},
     "output_type": "display_data"
    },
    {
     "data": {
      "image/png": "[encoded data removed]",
      "text/plain": [
       "<Figure size 640x480 with 1 Axes>"
      ]
     },
     "metadata": {},
     "output_type": "display_data"
    },
    {
     "data": {
      "image/png": "[encoded data removed]",
      "text/plain": [
       "<Figure size 640x480 with 1 Axes>"
      ]
     },
     "metadata": {},
     "output_type": "display_data"
    }
   ],
   "source": [
    "# 创建一个24x24的零矩阵\n",
    "matrix = np.zeros((36, 36))\n",
    "\n",
    "# 定义子方阵的边界\n",
    "first_class_bounds = [(0, 6), (12, 18),(24, 30)]\n",
    "second_class_bounds = [(6, 10), (18, 22), (30, 34)]\n",
    "third_class_bounds = [(10, 12), (22, 24), (34, 36)]\n",
    "\n",
    "# attention in the same instance of the same motif type\n",
    "for start, end in first_class_bounds:\n",
    "    for i in range(start, end):\n",
    "        for j in range(start, end):\n",
    "            matrix[i, j] = 2\n",
    "\n",
    "# \n",
    "for start, end in second_class_bounds:\n",
    "    for i in range(start, end):\n",
    "        for j in range(start, end):\n",
    "            matrix[i, j] = 4\n",
    "\n",
    "# 填充第三类子方阵\n",
    "for start, end in third_class_bounds:\n",
    "    for i in range(start, end):\n",
    "        for j in range(start, end):\n",
    "            matrix[i, j] = 6\n",
    "\n",
    "for i in range(6):\n",
    "    matrix_each_fig = matrix.copy()\n",
    "\n",
    "    for each_class_bounds in [first_class_bounds, second_class_bounds, third_class_bounds]:\n",
    "        for each_block_bounds in each_class_bounds:\n",
    "            # randomly select one block bounds from the rest of the class\n",
    "            other_blocks_bounds = [block_bounds for block_bounds in each_class_bounds if block_bounds != each_block_bounds]\n",
    "            other_block_bounds = random.choice(other_blocks_bounds)\n",
    "            temp_matrix = matrix_each_fig[each_block_bounds[0]:each_block_bounds[1], each_block_bounds[0]:each_block_bounds[1]]\n",
    "            matrix_each_fig[other_block_bounds[0]:other_block_bounds[1], each_block_bounds[0]:each_block_bounds[1]] = temp_matrix\n",
    "            matrix_each_fig[each_block_bounds[0]:each_block_bounds[1], each_block_bounds[0]:each_block_bounds[1]] = 0\n",
    "\n",
    "\n",
    "    original_cmap = mpl.colormaps['tab20']\n",
    "\n",
    "    selected_colors = [(1, 1, 1, 1)] + [original_cmap(i) for i in [0, 1, 2, 3, 4, 5]]\n",
    "\n",
    "    new_cmap = mpl.colors.ListedColormap(selected_colors)\n",
    "\n",
    "    plot_colored(matrix_each_fig, cmap=new_cmap, grid=False, bounds=[0, 1, 2, 3, 4, 5, 6, 7], fig_name='motif_mask_permutation_{}'.format(i))"
   ]
  },
  {
   "cell_type": "code",
   "execution_count": 7,
   "metadata": {},
   "outputs": [
    {
     "data": {
      "text/plain": [
       "array([[2., 2., 2., 2., 2., 2.],\n",
       "       [2., 2., 2., 2., 2., 2.],\n",
       "       [2., 2., 2., 2., 2., 2.],\n",
       "       [2., 2., 2., 2., 2., 2.],\n",
       "       [2., 2., 2., 2., 2., 2.],\n",
       "       [2., 2., 2., 2., 2., 2.]])"
      ]
     },
     "execution_count": 7,
     "metadata": {},
     "output_type": "execute_result"
    }
   ],
   "source": [
    "matrix[0:6,0:6]"
   ]
  },
  {
   "cell_type": "code",
   "execution_count": null,
   "metadata": {},
   "outputs": [],
   "source": [
    "matrix"
   ]
  },
  {
   "cell_type": "code",
   "execution_count": null,
   "metadata": {},
   "outputs": [],
   "source": []
  }
 ],
 "metadata": {
  "kernelspec": {
   "display_name": "base",
   "language": "python",
   "name": "python3"
  },
  "language_info": {
   "codemirror_mode": {
    "name": "ipython",
    "version": 3
   },
   "file_extension": ".py",
   "mimetype": "text/x-python",
   "name": "python",
   "nbconvert_exporter": "python",
   "pygments_lexer": "ipython3",
   "version": "3.12.3"
  }
 },
 "nbformat": 4,
 "nbformat_minor": 2
}
