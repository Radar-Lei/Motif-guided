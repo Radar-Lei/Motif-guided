{
 "cells": [
  {
   "cell_type": "code",
   "execution_count": 1,
   "metadata": {
    "_cell_guid": "b1076dfc-b9ad-4769-8c92-a6c4dae69d19",
    "_uuid": "8f2839f25d086af736a60e9eeb907d3b93b6e0e5"
   },
   "outputs": [
    {
     "name": "stdout",
     "output_type": "stream",
     "text": [
      "/kaggle/input/ml-in-graphs-hw1/hw1-q1-starter.py\n",
      "/kaggle/input/ml-in-graphs-hw1/ca-GrQc.txt\n",
      "/kaggle/input/ml-in-graphs-hw1/hw1-q2.graph\n",
      "/kaggle/input/ml-in-graphs-hw1/netscience.gml\n",
      "/kaggle/input/ml-in-graphs-hw1/netscience.txt\n",
      "/kaggle/input/cs224whw2018/q1-sample.txt\n",
      "/kaggle/input/cs224whw2018/6.txt\n",
      "/kaggle/input/cs224whw2018/all_gene_disease_associations.tsv.gz\n",
      "/kaggle/input/cs224whw2018/2.txt\n",
      "/kaggle/input/cs224whw2018/esu_test.txt\n",
      "/kaggle/input/cs224whw2018/1.txt\n",
      "/kaggle/input/cs224whw2018/email-Eu-core.txt\n",
      "/kaggle/input/cs224whw2018/12.txt\n",
      "/kaggle/input/cs224whw2018/stackoverflow-Java.txt.gz\n",
      "/kaggle/input/cs224whw2018/8.txt\n",
      "/kaggle/input/cs224whw2018/wiki-Vote.txt.gz\n",
      "/kaggle/input/cs224whw2018/10.txt\n",
      "/kaggle/input/cs224whw2018/ca-GrQc.txt.gz\n",
      "/kaggle/input/cs224whw2018/polblogs-rewired.txt\n",
      "/kaggle/input/cs224whw2018/3.txt\n",
      "/kaggle/input/cs224whw2018/0.txt\n",
      "/kaggle/input/cs224whw2018/polblogs.txt\n",
      "/kaggle/input/cs224whw2018/7.txt\n",
      "/kaggle/input/cs224whw2018/graph2.txt\n",
      "/kaggle/input/cs224whw2018/9.txt\n",
      "/kaggle/input/cs224whw2018/hw2-q1.txt\n",
      "/kaggle/input/cs224whw2018/graph1.txt\n",
      "/kaggle/input/cs224whw2018/karate.edgelist\n",
      "/kaggle/input/cs224whw2018/5.txt\n",
      "/kaggle/input/cs224whw2018/USpowergrid_n4941.txt\n",
      "/kaggle/input/cs224whw2018/email-EuAll.txt.gz\n",
      "/kaggle/input/cs224whw2018/soc-Epinions1.txt.gz\n",
      "/kaggle/input/cs224whw2018/hw2-q1.graph\n",
      "/kaggle/input/cs224whw2018/4.txt\n",
      "/kaggle/input/cs224whw2018/11.txt\n",
      "/kaggle/input/cs224whw2018/email-euall.txt/email-EuAll.txt\n",
      "/kaggle/input/cs224whw2018/wiki-vote.txt/wiki-Vote.txt\n",
      "/kaggle/input/cs224whw2018/stackoverflow-java.txt/stackoverflow-Java.txt\n",
      "/kaggle/input/cs224whw2018/soc-epinions1.txt/soc-Epinions1.txt\n",
      "/kaggle/input/cs224whw2018/ca-grqc.txt/ca-GrQc.txt\n",
      "/kaggle/input/cs224whw2018/all_gene_disease_associations.tsv/all_gene_disease_associations.tsv\n"
     ]
    }
   ],
   "source": [
    "# This Python 3 environment comes with many helpful analytics libraries installed\n",
    "# It is defined by the kaggle/python Docker image: https://github.com/kaggle/docker-python\n",
    "# For example, here's several helpful packages to load\n",
    "\n",
    "import numpy as np # linear algebra\n",
    "import pandas as pd # data processing, CSV file I/O (e.g. pd.read_csv)\n",
    "\n",
    "# Input data files are available in the read-only \"../input/\" directory\n",
    "# For example, running this (by clicking run or pressing Shift+Enter) will list all files under the input directory\n",
    "\n",
    "import os\n",
    "for dirname, _, filenames in os.walk('/kaggle/input'):\n",
    "    for filename in filenames:\n",
    "        print(os.path.join(dirname, filename))\n",
    "\n",
    "# You can write up to 5GB to the current directory (/kaggle/working/) that gets preserved as output when you create a version using \"Save & Run All\" \n",
    "# You can also write temporary files to /kaggle/temp/, but they won't be saved outside of the current session"
   ]
  },
  {
   "cell_type": "code",
   "execution_count": 2,
   "metadata": {
    "_cell_guid": "79c7e3d0-c299-4dcb-8224-4455121ee9b0",
    "_uuid": "d629ff2d2480ee46fbb7e2d37f6b5fab8052498a"
   },
   "outputs": [
    {
     "name": "stdout",
     "output_type": "stream",
     "text": [
      "Collecting snap-stanford\r\n",
      "  Downloading snap_stanford-5.0.0-cp37-cp37m-manylinux1_x86_64.whl (10.8 MB)\r\n",
      "\u001b[K     |████████████████████████████████| 10.8 MB 3.4 MB/s \r\n",
      "\u001b[?25hInstalling collected packages: snap-stanford\r\n",
      "Successfully installed snap-stanford-5.0.0\r\n",
      "Note: you may need to restart the kernel to use updated packages.\n"
     ]
    }
   ],
   "source": [
    "pip install snap-stanford"
   ]
  },
  {
   "cell_type": "code",
   "execution_count": 3,
   "metadata": {},
   "outputs": [],
   "source": [
    "import snap\n",
    "import pandas as pd\n",
    "import numpy as np\n",
    "import os\n",
    "import glob\n",
    "from IPython.display import Image\n",
    "import matplotlib.image as mpimg\n",
    "import warnings\n",
    "warnings.filterwarnings('ignore')\n",
    "import matplotlib.pyplot as plt\n",
    "%matplotlib inline"
   ]
  },
  {
   "cell_type": "code",
   "execution_count": 4,
   "metadata": {},
   "outputs": [],
   "source": [
    "motifs_folder = '/kaggle/input/cs224whw2018/'"
   ]
  },
  {
   "cell_type": "markdown",
   "execution_count": null,
   "metadata": {},
   "source": [
    "# Motif detection and configuration model\n",
    "\n",
    "## The Configuration Model [10 points]\n",
    "A common method for analyzing the properties of real world networks is to analyze their behavior\n",
    "in comparison with a generated theoretical model referred to as a \\null model.\" We have previously\n",
    "discussed some null models in class (Lecture 2), such as the Erd}os-Renyi model and the configuration\n",
    "model. While the Erd}os-Renyi model has many nice theoretical properties, the configuration model\n",
    "is useful because it generates random networks with a specified degree sequence. In other words,\n",
    "given a real network, the configuration model allows you to sample from the space of networks\n",
    "that have the exact same sequence of degrees (i.e., the sampled random networks have the same\n",
    "degree distribution as the network you are studying). For more background on the configuration\n",
    "model, check out these lecture notes by Aaron Clauset: http://tuvalu.santafe.edu/~aaronc/courses/5352/fall2013/csci5352_2013_L11.pdf   \n",
    "   \n",
    "One way of using the configuration model to generate such a network is through the spoke matching\n",
    "algorithm covered in Lecture 5. The intuition behind this algorithm is that we first break the\n",
    "network apart into a bunch of \\stubs\", which are basically nodes with dangling edges (spokes);\n",
    "then we generate a random network by randomly pairing up these spokes and connecting them.\n",
    "Using this approach, however, has a couple of subtleties. For instance, this algorithm can sometimes\n",
    "create improper (i.e. non-simple) networks with self-loops or multiple edges between two nodes;\n",
    "if this happens, then you must reject this sampled network and try again. If you wish, you may\n",
    "try to implement the configuration model using this method, but instead, we will use another\n",
    "approach."
   ]
  },
  {
   "cell_type": "markdown",
   "execution_count": null,
   "metadata": {},
   "source": [
    "A second (and more popular) approach to sampling from the con\f",
    "guration model is to do \\edge\n",
    "rewiring\". The idea with this algorithm is to start with an empirical network and then randomly\n",
    "rewire edges until it is essentially random.   \n",
    "   \n",
    "Implement \\edge rewiring\" for the US power grid graph. To do this, load the USpowergrid n4941.txt\n",
    "dataset as a PNGraph and iteratively repeat the following process:   \n",
    "1. Randomly select two distinct edges e1 = (a; b) and e2 = (c; d) from the graph. Now, try to\n",
    "re-wire these edges.   \n",
    "2. Randomly select one of endpoint of edge e1 and call it u. Let v be the other endpoint in\n",
    "e1. At this point, either u = a, v = b or u = b, v = a. Do the same for edge e2. Call the\n",
    "randomly selected endpoint w and the other endpoint x.   \n",
    "3. Perform the rewiring. In the graph, replace the directed edges e1 = (a; b) and e2 = (c; d) with\n",
    "the directed edges (u;w) and (v; x) as long as this results in a simple network (no self-loops\n",
    "or multi-edges). If the result is not a simple network, reject this rewiring and return to step\n",
    "1; otherwise, keep the newly swapped edges and return to step 1.  \n",
    "   \n",
    "Test your implementation and verify that you did not alter the number of nodes or edges on the\n",
    "original network. Run your edge rewiring implementation for 10,000 iterations on the power grid\n",
    "network. Every 100 iterations, calculate the average clustering coefficient of the rewired network.\n",
    "Then plot the average clustering coe\u000ecient as a function of the number of iterations. Brie\n",
    "y comment\n",
    "on the curve that represents the model being rewired by explaining its shape."
   ]
  },
  {
   "cell_type": "code",
   "execution_count": 5,
   "metadata": {},
   "outputs": [],
   "source": [
    "# Small graph for testing\n",
    "def test_esu_graph():\n",
    "    G = snap.TNGraph.New()\n",
    "\n",
    "    for i in range(1, 10):\n",
    "        G.AddNode(i)\n",
    "\n",
    "    labels = snap.TIntStrH()\n",
    "\n",
    "    for Node in G.Nodes():\n",
    "        labels[Node.GetId()] = str(Node.GetId())\n",
    "\n",
    "    G.AddEdge(1, 2)\n",
    "    G.AddEdge(2, 3)\n",
    "    G.AddEdge(1, 3)\n",
    "    G.AddEdge(1, 4)\n",
    "    G.AddEdge(1, 5)\n",
    "    G.AddEdge(8, 3)\n",
    "    G.AddEdge(9, 3)\n",
    "    G.AddEdge(2, 7)\n",
    "    G.AddEdge(2, 6)\n",
    "    return G\n",
    "def draw_graph(G, fileout, show = True):\n",
    "    labels = snap.TIntStrH()\n",
    "    for Node in G.Nodes():\n",
    "        labels[Node.GetId()] = str(Node.GetId())\n",
    "    snap.DrawGViz(G, snap.gvlNeato, fileout, 'G', labels)\n",
    "    if show:\n",
    "        plt.imshow(mpimg.imread(fileout)); plt.axis('off')\n",
    "        plt.show()"
   ]
  },
  {
   "cell_type": "code",
   "execution_count": 6,
   "metadata": {},
   "outputs": [
    {
     "data": {
      "image/png": "[encoded data removed]",
      "text/plain": [
       "<Figure size 432x288 with 1 Axes>"
      ]
     },
     "metadata": {
      "needs_background": "light"
     },
     "output_type": "display_data"
    }
   ],
   "source": [
    "G = test_esu_graph()\n",
    "draw_graph(G, 'test_esu.png')"
   ]
  },
  {
   "cell_type": "code",
   "execution_count": 7,
   "metadata": {},
   "outputs": [],
   "source": [
    "def gen_config_model_rewire(G, N_iter, computeCls=True):\n",
    "    \"\"\"\n",
    "    perform rewiring in graph\n",
    "    N - number of tries for rewiring\n",
    "    @param G: snap graph\n",
    "    @param N_iter: Int, number of rewiring\n",
    "    @param computeCls: bool, true for compute clustering coefficient\n",
    "    @return: snap graph\n",
    "    \"\"\"\n",
    "    G_rew = G\n",
    "    edge_list = [edge.GetId() for edge in G_rew.Edges()]\n",
    "    num_edges = len(edge_list)\n",
    "    clustCoefs = []\n",
    "    counter, n_shots = 0, 0\n",
    "    while counter < N_iter and n_shots < 100000:\n",
    "\n",
    "        n_shots += 1\n",
    "        ix1, ix2 = np.random.randint(num_edges, size=2)\n",
    "        e1, e2 = edge_list[ix1], edge_list[ix2]\n",
    "        u, v = np.random.choice(e1, size=2, replace=False)\n",
    "        w, x = np.random.choice(e2, size=2, replace=False)\n",
    "        no_self_loops = u != w and v != x\n",
    "        is_edges = G_rew.IsEdge(*e1) and G_rew.IsEdge(*e2)\n",
    "        no_mul_edges = not G_rew.IsEdge(int(u), int(w)) and not G_rew.IsEdge(int(v), int(x))\n",
    "        if no_self_loops and is_edges and no_mul_edges:\n",
    "            G_rew.DelEdge(*e1)\n",
    "            G_rew.DelEdge(*e2)\n",
    "            G_rew.AddEdge(int(u), int(w))\n",
    "            G_rew.AddEdge(int(v), int(x))\n",
    "            counter += 1\n",
    "\n",
    "        if computeCls and counter % 100 == 0:\n",
    "            clustCoefs.append(snap.GetClustCf(G_rew, -1))\n",
    "\n",
    "    return G_rew, clustCoefs\n"
   ]
  },
  {
   "cell_type": "code",
   "execution_count": 8,
   "metadata": {},
   "outputs": [
    {
     "data": {
      "image/png": "[encoded data removed]",
      "text/plain": [
       "<Figure size 432x288 with 1 Axes>"
      ]
     },
     "metadata": {
      "needs_background": "light"
     },
     "output_type": "display_data"
    }
   ],
   "source": [
    "G_rew, clustCoefs = gen_config_model_rewire(G, 3)\n",
    "draw_graph(G_rew, 'test_rew_esu.png')"
   ]
  },
  {
   "cell_type": "code",
   "execution_count": 9,
   "metadata": {},
   "outputs": [],
   "source": [
    "def plot_cluster_coefs(clustering_coeffs):\n",
    "    plt.plot(np.linspace(0,10000,len(clustering_coeffs)), clustering_coeffs)\n",
    "    plt.xlabel('Iteration')\n",
    "    plt.ylabel('Average Clustering Coefficient')\n",
    "    plt.title('Random edge rewiring: Clustering Coefficient')\n",
    "    plt.show()\n",
    "    \n",
    "def test_rewiring():\n",
    "    \"\"\"\n",
    "    Main q3 workflow. All of the work can be done in gen_config_model_rewire\n",
    "    but you may modify this function as needed.\n",
    "    \"\"\"\n",
    "\n",
    "    graphpath = '/kaggle/input/cs224whw2018/USpowergrid_n4941.txt'\n",
    "    G = load_graph(graphpath)\n",
    "    config_graph, clustering_coeffs = gen_config_model_rewire(G, 10000)\n",
    "    plot_cluster_coefs(clustering_coeffs)\n",
    "\n",
    "    return G_rew\n",
    "def load_graph(filepath):\n",
    "    \"\"\"\n",
    "\n",
    "    @param filepath: string, path to file with the Graph represented as edge list:  one line   - one edge\n",
    "    @return: snap Graph\n",
    "    \"\"\"\n",
    "    G = snap.LoadEdgeList(snap.PNGraph, filepath, 0, 1)\n",
    "    return G"
   ]
  },
  {
   "cell_type": "code",
   "execution_count": 10,
   "metadata": {},
   "outputs": [
    {
     "data": {
      "image/png": "[encoded data removed]",
      "text/plain": [
       "<Figure size 432x288 with 1 Axes>"
      ]
     },
     "metadata": {
      "needs_background": "light"
     },
     "output_type": "display_data"
    },
    {
     "name": "stdout",
     "output_type": "stream",
     "text": [
      "CPU times: user 11.3 s, sys: 39.8 ms, total: 11.3 s\n",
      "Wall time: 11.2 s\n"
     ]
    },
    {
     "data": {
      "text/plain": [
       "<snap.PNGraph; proxy of <Swig Object of type 'PNGraph *' at 0x7f66661699f0> >"
      ]
     },
     "execution_count": 10,
     "metadata": {},
     "output_type": "execute_result"
    }
   ],
   "source": [
    "%%time\n",
    "test_rewiring()"
   ]
  },
  {
   "cell_type": "markdown",
   "execution_count": null,
   "metadata": {},
   "source": [
    "## 3.2. Exact Subgraph Enumeration (ESU) [15 points]\n",
    "As we saw in class (Lecture 5), we have covered several metrics at node level (such as degree,\n",
    "PageRank score and node clustering) as well as at graph level (diameter, size of components, graph\n",
    "clustering coefficient). It would be useful to have something that characterized the graph at the\n",
    "mesoscopic level, that is, somewhere in between looking at the whole graph and looking at a single\n",
    "node. Looking at subgraphs of the network seems intuitive and will prove useful. Motifs are defined\n",
    "as recurrent, significant patterns of interconnections. They can help us understand how a network\n",
    "works and will help us predict the reaction of a network in a given situation.   \n",
    "    \n",
    "We can think of motifs as structurally identical subgraphs that occur frequently within a graph. It\n",
    "may be the case that a motif of interest appears several time in the graph, with overlapping nodes.\n",
    "Even though instances of the motif may overlap, we count each appearance separately.    \n",
    "    \n",
    "We wish to be able to count occurrences of certain subgraphs and compare with the number of\n",
    "occurrences in a null model, so that we identify the patterns that occur more frequently in a given\n",
    "graph and that as such, may be identi\f",
    "ed as motifs. But, as we saw in lecture, finding size-k\n",
    "motifs in graphs is a complex computational challenge, since it involves enumerating all possible\n",
    "size-k connected subgraphs and counting the number of occurrences of each subgraph type. This\n",
    "is an NP-hard problem, since graph isomorphism is NP-complete! But dont worry! We'll tackle a\n",
    "subproblem.   \n",
    "     \n",
    "Implement the ESU algorithm we covered in Lecture 5 to find all possible 3-subgraphs. We have\n",
    "provided starter code which takes care of the graph isomorphism matching and counting problem.\n",
    "Although, in general, this problem is NP-hard, for k = 3 we can exhaustively check all 3! = 6\n",
    "possible permutations on node labelings to find to which of the 13 possible 3-subgraphs (shown in\n",
    "Figure 4) has been identified. All you need to do is implement ESU as a recursive algorithm that\n",
    "upon finding a 3-subgraph, counts it using our provided isomorphism counting implementation.   \n",
    "    \n",
    "Test your implementation against the provided esu test.txt dataset. Load the file as a PNGraph.\n",
    "In Figure 5 you can see the graph we are loading. Then, run with the verbose option set to True\n",
    "and report the output of the run."
   ]
  },
  {
   "cell_type": "markdown",
   "execution_count": null,
   "metadata": {},
   "source": [
    "## 3.3. Detecting motifs on real data [10 points]\n",
    "Now that we are equiped with a null model and a motif counting algorithm, we will proceed to\n",
    "detect motifs on real world data.   \n",
    "   \n",
    "   ![1007](https://habrastorage.org/webt/bi/mv/vy/bimvvyobp8vrw-8rxgaupdm_juy.png)   \n",
    "       \n",
    "  Figure: All possible non-isomorphic directed 3-subgraphs    \n",
    "      \n",
    "  ![1008](https://habrastorage.org/webt/y3/8v/la/y38vladtjqewt51x_xf1ztz5sgs.png)   \n",
    "      \n",
    "  Figure: The provided graph to test ESU against. Note that this graph has 6 connected 3-\n",
    "subgraphs    \n",
    "    "
   ]
  },
  {
   "cell_type": "code",
   "execution_count": 11,
   "metadata": {},
   "outputs": [],
   "source": [
    "from itertools import permutations\n",
    "\n",
    "def match(G1, G2):\n",
    "    \"\"\"\n",
    "\n",
    "    This function compares two graphs of size 3 (number of nodes)\n",
    "    and checks if they are isomorphic.\n",
    "    It returns a boolean indicating whether or not they are isomorphic\n",
    "    You should not need to modify it, but it is also not very elegant...\n",
    "\n",
    "\n",
    "    @param G1:  snap Graph\n",
    "    @param G2:  snap Graph\n",
    "    @return: bool, True if graphs matches\n",
    "    \"\"\"\n",
    "\n",
    "    if G1.GetEdges() > G2.GetEdges():\n",
    "        G = G1\n",
    "        H = G2\n",
    "    else:\n",
    "        G = G2\n",
    "        H = G1\n",
    "    # Only checks 6 permutations, since k = 3\n",
    "    for p in permutations(range(3)):\n",
    "        edge = G.BegEI()\n",
    "        matches = True\n",
    "        while edge < G.EndEI():\n",
    "            if not H.IsEdge(p[edge.GetSrcNId()], p[edge.GetDstNId()]):\n",
    "                matches = False\n",
    "                break\n",
    "            edge.Next()\n",
    "        if matches:\n",
    "            break\n",
    "    return matches\n",
    "\n",
    "\n",
    "class MotifsOnGraphs:\n",
    "    \"\"\"\n",
    "    Compute all the motifs size 3 with ESU algo\n",
    "\n",
    "    Arguments:\n",
    "        network: path to file with the Graph represented as edge list:  one line   - one edge\n",
    "        motifs_folder: path to folder with all motifs named as numberOfmotif.txt\n",
    "\n",
    "    Attributes:\n",
    "        motifs: list of motifs as snap graphs\n",
    "        motif_counts : list of ints\n",
    "    \"\"\"\n",
    "\n",
    "    def __init__(self, motifs_folder):\n",
    "        \"\"\"\n",
    "        @param motifs_folder: path to folder with all motifs named as numberOfmotif.txt\n",
    "                            with the Graph represented as edge list:  one line   - one edge\n",
    "        \"\"\"\n",
    "        subgraph_fnames = [os.path.join(motifs_folder, f'{i}.txt') for i in range(13)]\n",
    "        self.__k = 3\n",
    "        self.motifs = [snap.LoadEdgeList(snap.PNGraph, f\"{motifs_folder}{i}.txt\", 0, 1) for i in\n",
    "                       range(len(subgraph_fnames))]\n",
    "        self.motif_counts = [0] * len(self.motifs)\n",
    "        self.__nbrs_cache = {}\n",
    "\n",
    "    def enumerate_subgraph(self, G, verbose=False):\n",
    "        \"\"\"\n",
    "        This is the main function of the ESU algorithm.\n",
    "        Here, you should iterate over all nodes in the graph,\n",
    "        find their neighbors with ID greater than the current node\n",
    "        and issue the recursive call to extend_subgraph in each iteration\n",
    "\n",
    "        A good idea would be to print a progress report on the cycle over nodes,\n",
    "        So you get an idea of how long the algorithm needs to run\n",
    "\n",
    "        @param G: snap Graph\n",
    "        @param verbose: bool\n",
    "        @return: list of int motifs count\n",
    "        \"\"\"\n",
    "\n",
    "        self.motif_counts = [0] * len(self.motifs)  # Reset the motif counts (Do not remove)\n",
    "        ##########################################################################\n",
    "        for Node in G.Nodes():\n",
    "            node_id = Node.GetId()\n",
    "            if verbose:\n",
    "                print(f\"Node {node_id} is processing: \")\n",
    "\n",
    "            v_ext = {el for el in self.getNbrs(G, node_id) if el > node_id}\n",
    "            self.extend_subgraph(G, {node_id}, v_ext, node_id, verbose)\n",
    "        self.__nbrs_cache = {}\n",
    "\n",
    "    def count_iso(self, G, sg, verbose=False):\n",
    "        \"\"\"\n",
    "\n",
    "        Given a set of 3 node indices in sg, obtains the subgraph from the\n",
    "        original graph and renumbers the nodes from 0 to 2.\n",
    "        It then matches this graph with one of the 13 graphs in\n",
    "        directed_3.\n",
    "        When it finds a match, it increments the motif_counts by 1 in the relevant\n",
    "        index\n",
    "\n",
    "        IMPORTANT: counts are stored in global motif_counts variable.\n",
    "        It is reset at the beginning of the enumerate_subgraph method.\n",
    "\n",
    "        @param G: snap Graph\n",
    "        @param sg: list of ints\n",
    "        @param verbose: bool, print list of node indices\n",
    "        @return: motif_counts\n",
    "        \"\"\"\n",
    "\n",
    "        if verbose:\n",
    "            print(sg)\n",
    "        nodes = snap.TIntV()\n",
    "        for NId in sg:\n",
    "            nodes.Add(NId)\n",
    "\n",
    "        SG = snap.GetSubGraphRenumber(G, nodes)\n",
    "        for i in range(len(self.motifs)):\n",
    "            if match(self.motifs[i], SG):\n",
    "                self.motif_counts[i] += 1\n",
    "                break\n",
    "\n",
    "    def extend_subgraph(self, G, sg, v_ext, node_id, verbose=False):\n",
    "        \"\"\"\n",
    "         This is the recursive function in the ESU algorithm\n",
    "        The base case is already implemented and calls count_iso. You should not\n",
    "        need to modify this.\n",
    "\n",
    "        Implement the recursive case.\n",
    "\n",
    "        @param sg: set of int subgraph members\n",
    "        @param v_ext:  set of int extensions member\n",
    "        @param node_id: int node index\n",
    "        @param verbose: bool\n",
    "        @return: motif counter\n",
    "        \"\"\"\n",
    "\n",
    "        # Base case (you should not need to modify this):\n",
    "        if len(sg) is self.__k:\n",
    "            # print(sg)\n",
    "            self.count_iso(G, sg, verbose)\n",
    "            return\n",
    "        # Recursive step:\n",
    "        ##########################################################################\n",
    "        while len(v_ext) > 0:\n",
    "            w = v_ext.pop()\n",
    "            #            if len(sg) <  self.__k-1:\n",
    "            Nw = self.getExclsNbrs(G, w, sg)\n",
    "            to_extend = {ni for ni in Nw if ni > node_id}\n",
    "\n",
    "            self.extend_subgraph(G, set.union(sg, {w}), set.union(v_ext, to_extend), node_id, verbose)\n",
    "\n",
    "    def getExclsNbrs(self, G, node_include, nodes_excl):\n",
    "        incl_set = self.getNbrs(G, node_include)\n",
    "        excl_set = set(nodes_excl)\n",
    "        [excl_set.update(self.getNbrs(G, ni)) for ni in nodes_excl]\n",
    "        return incl_set.difference(excl_set)\n",
    "\n",
    "    def getNbrs(self, G, node_id):\n",
    "        if node_id in self.__nbrs_cache:\n",
    "            return self.__nbrs_cache[node_id]\n",
    "        NodeVec = snap.TIntV()\n",
    "        snap.GetNodesAtHop(G, node_id, 1, NodeVec, False)\n",
    "        nbrs = set(NodeVec)\n",
    "        self.__nbrs_cache[node_id] = nbrs\n",
    "        return nbrs\n",
    "\n"
   ]
  },
  {
   "cell_type": "code",
   "execution_count": 12,
   "metadata": {},
   "outputs": [],
   "source": [
    "mfs = MotifsOnGraphs(motifs_folder)"
   ]
  },
  {
   "cell_type": "code",
   "execution_count": 13,
   "metadata": {},
   "outputs": [
    {
     "data": {
      "image/png": "[encoded data removed]",
      "text/plain": [
       "<Figure size 432x288 with 1 Axes>"
      ]
     },
     "metadata": {
      "needs_background": "light"
     },
     "output_type": "display_data"
    }
   ],
   "source": [
    "#plot one of the motif with index i\n",
    "draw_graph(mfs.motifs[0], 'motif.png')"
   ]
  },
  {
   "cell_type": "markdown",
   "execution_count": null,
   "metadata": {},
   "source": [
    "***enumerate_subgraph*** \n",
    "\n",
    "Basic function for motifs counting. \n",
    "\n",
    "What do we need to do:\n",
    "\n",
    "    - implement ESU algo to enlist all possibles subgraphs with the size 3\n",
    "    - find matching through the one of the 13 basic motifs taking into account isomorphism graph "
   ]
  },
  {
   "cell_type": "code",
   "execution_count": 14,
   "metadata": {},
   "outputs": [
    {
     "data": {
      "image/png": "[encoded data removed]",
      "text/plain": [
       "<Figure size 432x288 with 1 Axes>"
      ]
     },
     "metadata": {
      "needs_background": "light"
     },
     "output_type": "display_data"
    },
    {
     "name": "stdout",
     "output_type": "stream",
     "text": [
      "Node 1 is processing: \n",
      "{1, 2, 3}\n",
      "{1, 3, 4}\n",
      "{1, 3, 5}\n",
      "Node 3 is processing: \n",
      "{3, 4, 5}\n",
      "Node 2 is processing: \n",
      "{2, 3, 4}\n",
      "{2, 3, 5}\n",
      "Node 4 is processing: \n",
      "Node 5 is processing: \n"
     ]
    }
   ],
   "source": [
    "G1 = load_graph('/kaggle/input/cs224whw2018/esu_test.txt')\n",
    "draw_graph(G1, 'esu_test.png')\n",
    "mfs.enumerate_subgraph(G1, verbose=True)"
   ]
  },
  {
   "cell_type": "code",
   "execution_count": 15,
   "metadata": {},
   "outputs": [
    {
     "data": {
      "image/png": "[encoded data removed]",
      "text/plain": [
       "<Figure size 432x288 with 1 Axes>"
      ]
     },
     "metadata": {
      "needs_background": "light"
     },
     "output_type": "display_data"
    },
    {
     "name": "stdout",
     "output_type": "stream",
     "text": [
      "Node 1 is processing: \n",
      "{1, 2, 3}\n",
      "{1, 2, 4}\n",
      "{1, 2, 5}\n",
      "{1, 2, 6}\n",
      "{1, 2, 7}\n",
      "{8, 1, 3}\n",
      "{1, 3, 9}\n",
      "{1, 3, 4}\n",
      "{1, 3, 5}\n",
      "{1, 4, 5}\n",
      "Node 2 is processing: \n",
      "{8, 2, 3}\n",
      "{9, 2, 3}\n",
      "{2, 3, 6}\n",
      "{2, 3, 7}\n",
      "{2, 6, 7}\n",
      "Node 3 is processing: \n",
      "{8, 9, 3}\n",
      "Node 4 is processing: \n",
      "Node 5 is processing: \n",
      "Node 6 is processing: \n",
      "Node 7 is processing: \n",
      "Node 8 is processing: \n",
      "Node 9 is processing: \n"
     ]
    }
   ],
   "source": [
    "G2 = test_esu_graph()\n",
    "draw_graph(G2, 'test_esu.png')\n",
    "mfs.enumerate_subgraph(G2, verbose=True)"
   ]
  },
  {
   "cell_type": "markdown",
   "execution_count": null,
   "metadata": {},
   "source": [
    "## Experiment with power grid graph\n",
    "Load the provided USpowergrid n4941.txt dataset as a PNGraph. Compute the motif frequencies\n",
    "using your ESU implementation from the previous exercise. Now, sample 10 instances from the\n",
    "con\f",
    "guration model using this graph a starting point. Note that depending on your implementation\n",
    "you may need to reload the graph to generate each con\f",
    "guration model instance. Compute the\n",
    "motif frequencies on each of the 10 samples random graphs and store the results. You may use a\n",
    "numpy array of size 10\u000213 to store your motif counts. Compute the per-motif mean and standard\n",
    "deviation for the motif counts on these 10 runs and use it to compute the Z scores. Recall:   \n",
    "   \n",
    "   ![1009](https://habrastorage.org/webt/mh/yd/ol/mhydol-z7mejareqwyx1btqroc4.png)   \n",
    "      \n",
    "where N(i) is the number of times motif i appeared in the original graph, \u0016N\n",
    "(i)\n",
    "sampled is the mean\n",
    "number of times motif i appeared in the 10 sampled graphs and std(N(i)\n",
    "sampled) is the standard\n",
    "deviation of the sampled motif frequencies for motif i.\n",
    "    \n",
    "    \n",
    "Plot the Z scores against their respective motif index and comment (1-2 sentences) on the results.\n",
    "   \n",
    "\n",
    "Repeat the above process for the email-Eu-core.txt dataset also loaded as a PNGraph. Report\n",
    "the obtained Z score plot along with comments as before.   \n",
    "   \n",
    "Our reference implementation of the solution runs in about 10 minutes for the USpowergrid dataset\n",
    "and about 2.5 hours for the email-Eu dataset."
   ]
  },
  {
   "cell_type": "code",
   "execution_count": 16,
   "metadata": {},
   "outputs": [],
   "source": [
    "graphpath = '/kaggle/input/cs224whw2018/USpowergrid_n4941.txt'\n",
    "G = load_graph(graphpath)"
   ]
  },
  {
   "cell_type": "code",
   "execution_count": 17,
   "metadata": {},
   "outputs": [
    {
     "name": "stdout",
     "output_type": "stream",
     "text": [
      "{1, 386, 387, 452, 388, 2308, 454, 420, 2214, 394, 396, 409, 2394, 446, 447}\n"
     ]
    }
   ],
   "source": [
    "node_id = 1\n",
    "nbrs = mfs.getNbrs(G,1)\n",
    "nbr_nbrs = set()\n",
    "[nbr_nbrs.update(mfs.getNbrs(G, ni)) for ni in nbrs]\n",
    "nbrs.update(nbr_nbrs)\n",
    "print(nbrs)"
   ]
  },
  {
   "cell_type": "code",
   "execution_count": 18,
   "metadata": {},
   "outputs": [
    {
     "data": {
      "image/png": "[encoded data removed]",
      "text/plain": [
       "<IPython.core.display.Image object>"
      ]
     },
     "execution_count": 18,
     "metadata": {},
     "output_type": "execute_result"
    }
   ],
   "source": [
    "node_list = list(nbrs)\n",
    "nodes = snap.TIntV()\n",
    "for NId in node_list:\n",
    "    nodes.Add(NId)\n",
    "SG = snap.GetSubGraph(G, nodes)\n",
    "draw_graph(SG,'SG.png', show = False)  \n",
    "Image('SG.png')"
   ]
  },
  {
   "cell_type": "code",
   "execution_count": 19,
   "metadata": {},
   "outputs": [
    {
     "name": "stdout",
     "output_type": "stream",
     "text": [
      "Vectors of motifs: \n",
      " [0, 0, 0, 0, 0, 0, 0, 16980, 0, 0, 0, 0, 651]\n",
      "CPU times: user 3.93 s, sys: 0 ns, total: 3.93 s\n",
      "Wall time: 3.93 s\n"
     ]
    }
   ],
   "source": [
    "%%time\n",
    "mfs.enumerate_subgraph(G, verbose=False)\n",
    "print(f'Vectors of motifs: \\n {mfs.motif_counts}')\n",
    "real_scores = mfs.motif_counts"
   ]
  },
  {
   "cell_type": "markdown",
   "execution_count": null,
   "metadata": {},
   "source": [
    "Compare with motif distribution for configuration model"
   ]
  },
  {
   "cell_type": "code",
   "execution_count": 20,
   "metadata": {},
   "outputs": [
    {
     "name": "stdout",
     "output_type": "stream",
     "text": [
      "0\n",
      "Vectors of motifs for 0 config graph: \n",
      " [21979, 43881, 151, 22281, 34, 0, 139, 0, 16, 1, 0, 0, 0]\n",
      "1\n",
      "Vectors of motifs for 1 config graph: \n",
      " [22187, 44186, 88, 22029, 34, 0, 96, 0, 9, 1, 0, 0, 0]\n",
      "2\n",
      "Vectors of motifs for 2 config graph: \n",
      " [22248, 44211, 35, 22166, 36, 0, 41, 0, 9, 0, 0, 0, 0]\n",
      "3\n",
      "Vectors of motifs for 3 config graph: \n",
      " [22379, 44505, 27, 21775, 28, 0, 43, 0, 9, 0, 0, 0, 0]\n",
      "4\n",
      "Vectors of motifs for 4 config graph: \n",
      " [22167, 44202, 63, 22123, 39, 0, 71, 0, 11, 0, 0, 0, 0]\n",
      "5\n",
      "Vectors of motifs for 5 config graph: \n",
      " [22346, 44398, 4, 21986, 42, 0, 6, 0, 14, 0, 0, 0, 0]\n",
      "6\n",
      "Vectors of motifs for 6 config graph: \n",
      " [21879, 44411, 49, 22273, 38, 0, 45, 0, 15, 0, 0, 0, 0]\n",
      "7\n",
      "Vectors of motifs for 7 config graph: \n",
      " [21966, 44274, 59, 22298, 32, 0, 57, 0, 14, 0, 0, 0, 0]\n",
      "8\n",
      "Vectors of motifs for 8 config graph: \n",
      " [21966, 44430, 50, 22184, 36, 0, 38, 0, 13, 1, 0, 0, 0]\n",
      "9\n",
      "Vectors of motifs for 9 config graph: \n",
      " [22220, 44164, 61, 22122, 43, 0, 49, 0, 17, 0, 0, 0, 0]\n",
      "CPU times: user 3min 2s, sys: 899 ms, total: 3min 3s\n",
      "Wall time: 3min 2s\n"
     ]
    }
   ],
   "source": [
    "%%time\n",
    "conf_motifs = []\n",
    "for i in range(10):\n",
    "    print(i)\n",
    "    config_graph, clustering_coeffs = gen_config_model_rewire(G, 10000)\n",
    "    mfs.enumerate_subgraph(config_graph, verbose=False)\n",
    "    print(f'Vectors of motifs for {i} config graph: \\n {mfs.motif_counts}')\n",
    "    conf_motifs.append(mfs.motif_counts)"
   ]
  },
  {
   "cell_type": "code",
   "execution_count": 21,
   "metadata": {},
   "outputs": [
    {
     "data": {
      "text/html": [
       "<div>\n",
       "<style scoped>\n",
       "    .dataframe tbody tr th:only-of-type {\n",
       "        vertical-align: middle;\n",
       "    }\n",
       "\n",
       "    .dataframe tbody tr th {\n",
       "        vertical-align: top;\n",
       "    }\n",
       "\n",
       "    .dataframe thead th {\n",
       "        text-align: right;\n",
       "    }\n",
       "</style>\n",
       "<table border=\"1\" class=\"dataframe\">\n",
       "  <thead>\n",
       "    <tr style=\"text-align: right;\">\n",
       "      <th></th>\n",
       "      <th>Experiment #1</th>\n",
       "      <th>Experiment #2</th>\n",
       "      <th>Experiment #3</th>\n",
       "      <th>Experiment #4</th>\n",
       "      <th>Experiment #5</th>\n",
       "      <th>Experiment #6</th>\n",
       "      <th>Experiment #7</th>\n",
       "      <th>Experiment #8</th>\n",
       "      <th>Experiment #9</th>\n",
       "      <th>Experiment #10</th>\n",
       "    </tr>\n",
       "  </thead>\n",
       "  <tbody>\n",
       "    <tr>\n",
       "      <th>0</th>\n",
       "      <td>21979</td>\n",
       "      <td>22187</td>\n",
       "      <td>22248</td>\n",
       "      <td>22379</td>\n",
       "      <td>22167</td>\n",
       "      <td>22346</td>\n",
       "      <td>21879</td>\n",
       "      <td>21966</td>\n",
       "      <td>21966</td>\n",
       "      <td>22220</td>\n",
       "    </tr>\n",
       "    <tr>\n",
       "      <th>1</th>\n",
       "      <td>43881</td>\n",
       "      <td>44186</td>\n",
       "      <td>44211</td>\n",
       "      <td>44505</td>\n",
       "      <td>44202</td>\n",
       "      <td>44398</td>\n",
       "      <td>44411</td>\n",
       "      <td>44274</td>\n",
       "      <td>44430</td>\n",
       "      <td>44164</td>\n",
       "    </tr>\n",
       "    <tr>\n",
       "      <th>2</th>\n",
       "      <td>151</td>\n",
       "      <td>88</td>\n",
       "      <td>35</td>\n",
       "      <td>27</td>\n",
       "      <td>63</td>\n",
       "      <td>4</td>\n",
       "      <td>49</td>\n",
       "      <td>59</td>\n",
       "      <td>50</td>\n",
       "      <td>61</td>\n",
       "    </tr>\n",
       "    <tr>\n",
       "      <th>3</th>\n",
       "      <td>22281</td>\n",
       "      <td>22029</td>\n",
       "      <td>22166</td>\n",
       "      <td>21775</td>\n",
       "      <td>22123</td>\n",
       "      <td>21986</td>\n",
       "      <td>22273</td>\n",
       "      <td>22298</td>\n",
       "      <td>22184</td>\n",
       "      <td>22122</td>\n",
       "    </tr>\n",
       "    <tr>\n",
       "      <th>4</th>\n",
       "      <td>34</td>\n",
       "      <td>34</td>\n",
       "      <td>36</td>\n",
       "      <td>28</td>\n",
       "      <td>39</td>\n",
       "      <td>42</td>\n",
       "      <td>38</td>\n",
       "      <td>32</td>\n",
       "      <td>36</td>\n",
       "      <td>43</td>\n",
       "    </tr>\n",
       "    <tr>\n",
       "      <th>5</th>\n",
       "      <td>0</td>\n",
       "      <td>0</td>\n",
       "      <td>0</td>\n",
       "      <td>0</td>\n",
       "      <td>0</td>\n",
       "      <td>0</td>\n",
       "      <td>0</td>\n",
       "      <td>0</td>\n",
       "      <td>0</td>\n",
       "      <td>0</td>\n",
       "    </tr>\n",
       "    <tr>\n",
       "      <th>6</th>\n",
       "      <td>139</td>\n",
       "      <td>96</td>\n",
       "      <td>41</td>\n",
       "      <td>43</td>\n",
       "      <td>71</td>\n",
       "      <td>6</td>\n",
       "      <td>45</td>\n",
       "      <td>57</td>\n",
       "      <td>38</td>\n",
       "      <td>49</td>\n",
       "    </tr>\n",
       "    <tr>\n",
       "      <th>7</th>\n",
       "      <td>0</td>\n",
       "      <td>0</td>\n",
       "      <td>0</td>\n",
       "      <td>0</td>\n",
       "      <td>0</td>\n",
       "      <td>0</td>\n",
       "      <td>0</td>\n",
       "      <td>0</td>\n",
       "      <td>0</td>\n",
       "      <td>0</td>\n",
       "    </tr>\n",
       "    <tr>\n",
       "      <th>8</th>\n",
       "      <td>16</td>\n",
       "      <td>9</td>\n",
       "      <td>9</td>\n",
       "      <td>9</td>\n",
       "      <td>11</td>\n",
       "      <td>14</td>\n",
       "      <td>15</td>\n",
       "      <td>14</td>\n",
       "      <td>13</td>\n",
       "      <td>17</td>\n",
       "    </tr>\n",
       "    <tr>\n",
       "      <th>9</th>\n",
       "      <td>1</td>\n",
       "      <td>1</td>\n",
       "      <td>0</td>\n",
       "      <td>0</td>\n",
       "      <td>0</td>\n",
       "      <td>0</td>\n",
       "      <td>0</td>\n",
       "      <td>0</td>\n",
       "      <td>1</td>\n",
       "      <td>0</td>\n",
       "    </tr>\n",
       "    <tr>\n",
       "      <th>10</th>\n",
       "      <td>0</td>\n",
       "      <td>0</td>\n",
       "      <td>0</td>\n",
       "      <td>0</td>\n",
       "      <td>0</td>\n",
       "      <td>0</td>\n",
       "      <td>0</td>\n",
       "      <td>0</td>\n",
       "      <td>0</td>\n",
       "      <td>0</td>\n",
       "    </tr>\n",
       "    <tr>\n",
       "      <th>11</th>\n",
       "      <td>0</td>\n",
       "      <td>0</td>\n",
       "      <td>0</td>\n",
       "      <td>0</td>\n",
       "      <td>0</td>\n",
       "      <td>0</td>\n",
       "      <td>0</td>\n",
       "      <td>0</td>\n",
       "      <td>0</td>\n",
       "      <td>0</td>\n",
       "    </tr>\n",
       "    <tr>\n",
       "      <th>12</th>\n",
       "      <td>0</td>\n",
       "      <td>0</td>\n",
       "      <td>0</td>\n",
       "      <td>0</td>\n",
       "      <td>0</td>\n",
       "      <td>0</td>\n",
       "      <td>0</td>\n",
       "      <td>0</td>\n",
       "      <td>0</td>\n",
       "      <td>0</td>\n",
       "    </tr>\n",
       "  </tbody>\n",
       "</table>\n",
       "</div>"
      ],
      "text/plain": [
       "    Experiment #1  Experiment #2  Experiment #3  Experiment #4  Experiment #5  \\\n",
       "0           21979          22187          22248          22379          22167   \n",
       "1           43881          44186          44211          44505          44202   \n",
       "2             151             88             35             27             63   \n",
       "3           22281          22029          22166          21775          22123   \n",
       "4              34             34             36             28             39   \n",
       "5               0              0              0              0              0   \n",
       "6             139             96             41             43             71   \n",
       "7               0              0              0              0              0   \n",
       "8              16              9              9              9             11   \n",
       "9               1              1              0              0              0   \n",
       "10              0              0              0              0              0   \n",
       "11              0              0              0              0              0   \n",
       "12              0              0              0              0              0   \n",
       "\n",
       "    Experiment #6  Experiment #7  Experiment #8  Experiment #9  Experiment #10  \n",
       "0           22346          21879          21966          21966           22220  \n",
       "1           44398          44411          44274          44430           44164  \n",
       "2               4             49             59             50              61  \n",
       "3           21986          22273          22298          22184           22122  \n",
       "4              42             38             32             36              43  \n",
       "5               0              0              0              0               0  \n",
       "6               6             45             57             38              49  \n",
       "7               0              0              0              0               0  \n",
       "8              14             15             14             13              17  \n",
       "9               0              0              0              1               0  \n",
       "10              0              0              0              0               0  \n",
       "11              0              0              0              0               0  \n",
       "12              0              0              0              0               0  "
      ]
     },
     "execution_count": 21,
     "metadata": {},
     "output_type": "execute_result"
    }
   ],
   "source": [
    "pd.DataFrame(pd.DataFrame(conf_motifs).T.values, columns=['Experiment #%s' % str(x+1) for x in range(10)])"
   ]
  },
  {
   "cell_type": "code",
   "execution_count": 22,
   "metadata": {},
   "outputs": [
    {
     "data": {
      "text/html": [
       "<div>\n",
       "<style scoped>\n",
       "    .dataframe tbody tr th:only-of-type {\n",
       "        vertical-align: middle;\n",
       "    }\n",
       "\n",
       "    .dataframe tbody tr th {\n",
       "        vertical-align: top;\n",
       "    }\n",
       "\n",
       "    .dataframe thead th {\n",
       "        text-align: right;\n",
       "    }\n",
       "</style>\n",
       "<table border=\"1\" class=\"dataframe\">\n",
       "  <thead>\n",
       "    <tr style=\"text-align: right;\">\n",
       "      <th></th>\n",
       "      <th>0</th>\n",
       "      <th>1</th>\n",
       "      <th>2</th>\n",
       "      <th>3</th>\n",
       "      <th>4</th>\n",
       "      <th>5</th>\n",
       "      <th>6</th>\n",
       "      <th>7</th>\n",
       "      <th>8</th>\n",
       "      <th>9</th>\n",
       "      <th>10</th>\n",
       "      <th>11</th>\n",
       "      <th>12</th>\n",
       "    </tr>\n",
       "  </thead>\n",
       "  <tbody>\n",
       "    <tr>\n",
       "      <th>Z-score</th>\n",
       "      <td>-133.530461</td>\n",
       "      <td>-257.867854</td>\n",
       "      <td>-1.561584</td>\n",
       "      <td>-145.135364</td>\n",
       "      <td>-8.402714</td>\n",
       "      <td>NaN</td>\n",
       "      <td>-1.685907</td>\n",
       "      <td>inf</td>\n",
       "      <td>-4.432331</td>\n",
       "      <td>-0.654654</td>\n",
       "      <td>NaN</td>\n",
       "      <td>NaN</td>\n",
       "      <td>inf</td>\n",
       "    </tr>\n",
       "    <tr>\n",
       "      <th>Motif count</th>\n",
       "      <td>0.000000</td>\n",
       "      <td>0.000000</td>\n",
       "      <td>0.000000</td>\n",
       "      <td>0.000000</td>\n",
       "      <td>0.000000</td>\n",
       "      <td>0.0</td>\n",
       "      <td>0.000000</td>\n",
       "      <td>16980.0</td>\n",
       "      <td>0.000000</td>\n",
       "      <td>0.000000</td>\n",
       "      <td>0.0</td>\n",
       "      <td>0.0</td>\n",
       "      <td>651.0</td>\n",
       "    </tr>\n",
       "  </tbody>\n",
       "</table>\n",
       "</div>"
      ],
      "text/plain": [
       "                      0           1         2           3         4    5  \\\n",
       "Z-score     -133.530461 -257.867854 -1.561584 -145.135364 -8.402714  NaN   \n",
       "Motif count    0.000000    0.000000  0.000000    0.000000  0.000000  0.0   \n",
       "\n",
       "                    6        7         8         9   10   11     12  \n",
       "Z-score     -1.685907      inf -4.432331 -0.654654  NaN  NaN    inf  \n",
       "Motif count  0.000000  16980.0  0.000000  0.000000  0.0  0.0  651.0  "
      ]
     },
     "execution_count": 22,
     "metadata": {},
     "output_type": "execute_result"
    }
   ],
   "source": [
    "z_scores = (real_scores - np.mean(conf_motifs, axis = 0))/np.std(conf_motifs, axis = 0)\n",
    "pd.DataFrame([z_scores, real_scores], index=['Z-score', 'Motif count'])"
   ]
  },
  {
   "cell_type": "code",
   "execution_count": null,
   "metadata": {},
   "outputs": [],
   "source": []
  }
 ],
 "metadata": {
  "kernelspec": {
   "display_name": "Python 3",
   "language": "python",
   "name": "python3"
  },
  "language_info": {
   "codemirror_mode": {
    "name": "ipython",
    "version": 3
   },
   "file_extension": ".py",
   "mimetype": "text/x-python",
   "name": "python",
   "nbconvert_exporter": "python",
   "pygments_lexer": "ipython3",
   "version": "3.7.6"
  }
 },
 "nbformat": 4,
 "nbformat_minor": 4
}
