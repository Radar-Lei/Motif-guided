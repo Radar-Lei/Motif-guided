{
 "cells": [
  {
   "cell_type": "markdown",
   "metadata": {},
   "source": [
    "### Utrecht in The Netherland\n",
    "The dataset starts from 2017-01-01 to 2017-02-28."
   ]
  },
  {
   "cell_type": "code",
   "execution_count": 1,
   "metadata": {},
   "outputs": [],
   "source": [
    "import pandas as pd\n",
    "\n",
    "# Specify the file path\n",
    "file_path = 'datasets/journeys.tsv'\n",
    "\n",
    "# Read the TSV file into a pandas DataFrame\n",
    "df_utrecht = pd.read_csv(file_path, sep='\\t', header=None)\n",
    "\n",
    "# Remove the last column\n",
    "df_utrecht = df_utrecht.drop(columns=df_utrecht.columns[-1])\n",
    "\n",
    "# Set the column names\n",
    "df_utrecht.columns = [\"card_id\", \"start_time\", \"end_time\", \"origin\", \"destination\"]\n",
    "\n",
    "# df_utrecht['start_time'] = pd.to_datetime(df_utrecht['start_time'])\n",
    "# df_utrecht['end_time'] = pd.to_datetime(df_utrecht['end_time'])"
   ]
  },
  {
   "cell_type": "code",
   "execution_count": 2,
   "metadata": {},
   "outputs": [
    {
     "data": {
      "text/html": [
       "<div>\n",
       "<style scoped>\n",
       "    .dataframe tbody tr th:only-of-type {\n",
       "        vertical-align: middle;\n",
       "    }\n",
       "\n",
       "    .dataframe tbody tr th {\n",
       "        vertical-align: top;\n",
       "    }\n",
       "\n",
       "    .dataframe thead th {\n",
       "        text-align: right;\n",
       "    }\n",
       "</style>\n",
       "<table border=\"1\" class=\"dataframe\">\n",
       "  <thead>\n",
       "    <tr style=\"text-align: right;\">\n",
       "      <th></th>\n",
       "      <th>card_id</th>\n",
       "      <th>start_time</th>\n",
       "      <th>end_time</th>\n",
       "      <th>origin</th>\n",
       "      <th>destination</th>\n",
       "    </tr>\n",
       "  </thead>\n",
       "  <tbody>\n",
       "    <tr>\n",
       "      <th>0</th>\n",
       "      <td>2891638867820331400</td>\n",
       "      <td>3-1-2017 11:10</td>\n",
       "      <td>3-1-2017 11:12</td>\n",
       "      <td>Jaarbeurs</td>\n",
       "      <td>Janskerkhof</td>\n",
       "    </tr>\n",
       "    <tr>\n",
       "      <th>1</th>\n",
       "      <td>2891638867820331400</td>\n",
       "      <td>3-1-2017 13:20</td>\n",
       "      <td>3-1-2017 13:22</td>\n",
       "      <td>Janskerkhof</td>\n",
       "      <td>Jaarbeurs</td>\n",
       "    </tr>\n",
       "    <tr>\n",
       "      <th>2</th>\n",
       "      <td>2891638867820331400</td>\n",
       "      <td>4-1-2017 12:05</td>\n",
       "      <td>4-1-2017 12:07</td>\n",
       "      <td>Jaarbeurs</td>\n",
       "      <td>Nijenoord</td>\n",
       "    </tr>\n",
       "    <tr>\n",
       "      <th>3</th>\n",
       "      <td>2891638867820331400</td>\n",
       "      <td>4-1-2017 17:47</td>\n",
       "      <td>4-1-2017 17:49</td>\n",
       "      <td>Nijenoord</td>\n",
       "      <td>Jaarbeurs</td>\n",
       "    </tr>\n",
       "    <tr>\n",
       "      <th>4</th>\n",
       "      <td>2891638867820331400</td>\n",
       "      <td>5-1-2017 7:57</td>\n",
       "      <td>5-1-2017 7:58</td>\n",
       "      <td>Jaarbeurs</td>\n",
       "      <td>Twijnstraat</td>\n",
       "    </tr>\n",
       "    <tr>\n",
       "      <th>5</th>\n",
       "      <td>2891638867820331400</td>\n",
       "      <td>5-1-2017 16:52</td>\n",
       "      <td>5-1-2017 16:53</td>\n",
       "      <td>Twijnstraat</td>\n",
       "      <td>Jaarbeurs</td>\n",
       "    </tr>\n",
       "    <tr>\n",
       "      <th>6</th>\n",
       "      <td>2891638867820331400</td>\n",
       "      <td>6-1-2017 9:53</td>\n",
       "      <td>6-1-2017 9:59</td>\n",
       "      <td>Jaarbeurs</td>\n",
       "      <td>UMC Utrecht</td>\n",
       "    </tr>\n",
       "    <tr>\n",
       "      <th>7</th>\n",
       "      <td>2891638867820331400</td>\n",
       "      <td>6-1-2017 12:10</td>\n",
       "      <td>6-1-2017 12:17</td>\n",
       "      <td>UMC Utrecht</td>\n",
       "      <td>Jaarbeurs</td>\n",
       "    </tr>\n",
       "    <tr>\n",
       "      <th>8</th>\n",
       "      <td>2891638867820331400</td>\n",
       "      <td>7-1-2017 14:03</td>\n",
       "      <td>7-1-2017 14:04</td>\n",
       "      <td>Jaarbeurs</td>\n",
       "      <td>Oudegracht Winkels en Restaurants</td>\n",
       "    </tr>\n",
       "    <tr>\n",
       "      <th>9</th>\n",
       "      <td>2891638867820331400</td>\n",
       "      <td>7-1-2017 23:04</td>\n",
       "      <td>7-1-2017 23:05</td>\n",
       "      <td>Oudegracht Winkels en Restaurants</td>\n",
       "      <td>Jaarbeurs</td>\n",
       "    </tr>\n",
       "  </tbody>\n",
       "</table>\n",
       "</div>"
      ],
      "text/plain": [
       "               card_id      start_time        end_time  \\\n",
       "0  2891638867820331400  3-1-2017 11:10  3-1-2017 11:12   \n",
       "1  2891638867820331400  3-1-2017 13:20  3-1-2017 13:22   \n",
       "2  2891638867820331400  4-1-2017 12:05  4-1-2017 12:07   \n",
       "3  2891638867820331400  4-1-2017 17:47  4-1-2017 17:49   \n",
       "4  2891638867820331400   5-1-2017 7:57   5-1-2017 7:58   \n",
       "5  2891638867820331400  5-1-2017 16:52  5-1-2017 16:53   \n",
       "6  2891638867820331400   6-1-2017 9:53   6-1-2017 9:59   \n",
       "7  2891638867820331400  6-1-2017 12:10  6-1-2017 12:17   \n",
       "8  2891638867820331400  7-1-2017 14:03  7-1-2017 14:04   \n",
       "9  2891638867820331400  7-1-2017 23:04  7-1-2017 23:05   \n",
       "\n",
       "                              origin                        destination  \n",
       "0                          Jaarbeurs                        Janskerkhof  \n",
       "1                        Janskerkhof                          Jaarbeurs  \n",
       "2                          Jaarbeurs                          Nijenoord  \n",
       "3                          Nijenoord                          Jaarbeurs  \n",
       "4                          Jaarbeurs                        Twijnstraat  \n",
       "5                        Twijnstraat                          Jaarbeurs  \n",
       "6                          Jaarbeurs                        UMC Utrecht  \n",
       "7                        UMC Utrecht                          Jaarbeurs  \n",
       "8                          Jaarbeurs  Oudegracht Winkels en Restaurants  \n",
       "9  Oudegracht Winkels en Restaurants                          Jaarbeurs  "
      ]
     },
     "execution_count": 2,
     "metadata": {},
     "output_type": "execute_result"
    }
   ],
   "source": [
    "df_utrecht.head(10)"
   ]
  },
  {
   "cell_type": "markdown",
   "metadata": {},
   "source": [
    "#### Number of Cardholders"
   ]
  },
  {
   "cell_type": "code",
   "execution_count": 2,
   "metadata": {},
   "outputs": [
    {
     "name": "stdout",
     "output_type": "stream",
     "text": [
      "Number of cardholders: 200000\n"
     ]
    }
   ],
   "source": [
    "print(\"Number of cardholders:\", df_utrecht['card_id'].nunique())"
   ]
  },
  {
   "cell_type": "code",
   "execution_count": 5,
   "metadata": {},
   "outputs": [
    {
     "data": {
      "text/plain": [
       "6234185716562345253    125\n",
       "5805968829105626586    123\n",
       "1086286808524226336    122\n",
       "5829337626495953017    122\n",
       "7603558967793413000    122\n",
       "                      ... \n",
       "6916555389651010672    100\n",
       "4294674859647674855    100\n",
       "7626897122917329533    100\n",
       "5068618087165745352    100\n",
       "2367116031601218529    100\n",
       "Name: card_id, Length: 200000, dtype: int64"
      ]
     },
     "execution_count": 5,
     "metadata": {},
     "output_type": "execute_result"
    }
   ],
   "source": [
    "utrecht_card_id_count = df_utrecht['card_id'].value_counts()\n",
    "utrecht_card_id_count"
   ]
  },
  {
   "cell_type": "code",
   "execution_count": 16,
   "metadata": {},
   "outputs": [
    {
     "data": {
      "image/png": "[encoded data removed]",
      "text/plain": [
       "<Figure size 600x400 with 1 Axes>"
      ]
     },
     "metadata": {},
     "output_type": "display_data"
    }
   ],
   "source": [
    "import matplotlib.pyplot as plt\n",
    "\n",
    "# Set the figure size\n",
    "plt.figure(figsize=(6, 4))\n",
    "\n",
    "# Plot the histogram\n",
    "utrecht_card_id_count.plot(kind='hist', color='skyblue', edgecolor='black')\n",
    "\n",
    "# Set the labels and title\n",
    "plt.xlabel('Travel Frequency', fontsize=12)\n",
    "plt.ylabel('Cardholders', fontsize=12)\n",
    "plt.title('Distribution of Travel Frequency of Bus Passengers in Utrecht', fontsize=12)\n",
    "\n",
    "# Set y-axis tick labels in scientific notation\n",
    "plt.ticklabel_format(style='sci', axis='y', scilimits=(0,0))\n",
    "\n",
    "# Add grid lines\n",
    "# plt.grid(True, linestyle='--', alpha=0.5)\n",
    "\n",
    "# Save the figure as 'output.png'\n",
    "plt.savefig('figs/utrecht_travel_freq.png')\n",
    "\n",
    "# Show the plot\n",
    "plt.show()\n"
   ]
  },
  {
   "cell_type": "markdown",
   "metadata": {},
   "source": [
    "### Shenzhen Metro\n",
    "The data spans from 2014-06-09 to 2014-06-13"
   ]
  },
  {
   "cell_type": "code",
   "execution_count": null,
   "metadata": {},
   "outputs": [],
   "source": [
    "import pandas as pd\n",
    "import glob\n",
    "\n",
    "# Specify the folder path\n",
    "folder_path = 'raw data/DT_GJC_地铁站刷卡数据/'\n",
    "\n",
    "# Get a list of all .csv files in the folder\n",
    "csv_files = glob.glob(folder_path + '*.csv')\n",
    "\n",
    "# Initialize an empty list to store the dataframes\n",
    "dfs_SZ = []\n",
    "\n",
    "# Loop through each .csv file and read it into a dataframe\n",
    "for file in csv_files:\n",
    "    df_SZ = pd.read_csv(file, encoding='gbk', header=None, sep=',')\n",
    "    dfs_SZ.append(df_SZ)\n",
    "\n",
    "# Concatenate the dataframes into a single dataframe\n",
    "combined_df_SZ = pd.concat(dfs_SZ, ignore_index=True)\n",
    "\n",
    "combined_df_SZ.columns = [\"card_id\", \"fee\", \"actual_fee\", \"time\", \"route\",\"station\",\"train_id\",\"status\"]\n",
    "\n",
    "# Convert the \"time\" column to timestamp\n",
    "combined_df_SZ['time'] = pd.to_datetime(combined_df_SZ['time'])\n"
   ]
  },
  {
   "cell_type": "markdown",
   "metadata": {},
   "source": [
    "#### Numer of total transactions"
   ]
  },
  {
   "cell_type": "code",
   "execution_count": 3,
   "metadata": {},
   "outputs": [
    {
     "data": {
      "text/html": [
       "<div>\n",
       "<style scoped>\n",
       "    .dataframe tbody tr th:only-of-type {\n",
       "        vertical-align: middle;\n",
       "    }\n",
       "\n",
       "    .dataframe tbody tr th {\n",
       "        vertical-align: top;\n",
       "    }\n",
       "\n",
       "    .dataframe thead th {\n",
       "        text-align: right;\n",
       "    }\n",
       "</style>\n",
       "<table border=\"1\" class=\"dataframe\">\n",
       "  <thead>\n",
       "    <tr style=\"text-align: right;\">\n",
       "      <th></th>\n",
       "      <th>card_id</th>\n",
       "      <th>fee</th>\n",
       "      <th>actual_fee</th>\n",
       "      <th>time</th>\n",
       "      <th>route</th>\n",
       "      <th>station</th>\n",
       "      <th>train_id</th>\n",
       "      <th>status</th>\n",
       "    </tr>\n",
       "  </thead>\n",
       "  <tbody>\n",
       "    <tr>\n",
       "      <th>37</th>\n",
       "      <td>880001627</td>\n",
       "      <td>0</td>\n",
       "      <td>0.0</td>\n",
       "      <td>2014-06-09 00:00:05</td>\n",
       "      <td>地铁一号线</td>\n",
       "      <td>会展中心站</td>\n",
       "      <td>OGT-136</td>\n",
       "      <td>进站</td>\n",
       "    </tr>\n",
       "    <tr>\n",
       "      <th>38</th>\n",
       "      <td>880200292</td>\n",
       "      <td>0</td>\n",
       "      <td>0.0</td>\n",
       "      <td>2014-06-09 00:01:24</td>\n",
       "      <td>地铁三号线</td>\n",
       "      <td>大运</td>\n",
       "      <td>AGM-105</td>\n",
       "      <td>进站</td>\n",
       "    </tr>\n",
       "    <tr>\n",
       "      <th>39</th>\n",
       "      <td>880015200</td>\n",
       "      <td>0</td>\n",
       "      <td>0.0</td>\n",
       "      <td>2014-06-09 00:02:16</td>\n",
       "      <td>地铁五号线</td>\n",
       "      <td>塘朗</td>\n",
       "      <td>AGT-111</td>\n",
       "      <td>进站</td>\n",
       "    </tr>\n",
       "    <tr>\n",
       "      <th>40</th>\n",
       "      <td>880010124</td>\n",
       "      <td>0</td>\n",
       "      <td>0.0</td>\n",
       "      <td>2014-06-09 00:04:06</td>\n",
       "      <td>地铁二号线</td>\n",
       "      <td>东角头</td>\n",
       "      <td>IGT-111</td>\n",
       "      <td>进站</td>\n",
       "    </tr>\n",
       "    <tr>\n",
       "      <th>41</th>\n",
       "      <td>880016050</td>\n",
       "      <td>0</td>\n",
       "      <td>0.0</td>\n",
       "      <td>2014-06-09 00:03:58</td>\n",
       "      <td>地铁二号线</td>\n",
       "      <td>燕南</td>\n",
       "      <td>IGT-110</td>\n",
       "      <td>进站</td>\n",
       "    </tr>\n",
       "    <tr>\n",
       "      <th>...</th>\n",
       "      <td>...</td>\n",
       "      <td>...</td>\n",
       "      <td>...</td>\n",
       "      <td>...</td>\n",
       "      <td>...</td>\n",
       "      <td>...</td>\n",
       "      <td>...</td>\n",
       "      <td>...</td>\n",
       "    </tr>\n",
       "    <tr>\n",
       "      <th>16294810</th>\n",
       "      <td>294311396</td>\n",
       "      <td>0</td>\n",
       "      <td>0.0</td>\n",
       "      <td>2014-06-13 19:37:16</td>\n",
       "      <td>地铁二号线</td>\n",
       "      <td>东角头</td>\n",
       "      <td>IGT-109</td>\n",
       "      <td>进站</td>\n",
       "    </tr>\n",
       "    <tr>\n",
       "      <th>16294811</th>\n",
       "      <td>327057456</td>\n",
       "      <td>0</td>\n",
       "      <td>0.0</td>\n",
       "      <td>2014-06-13 21:23:47</td>\n",
       "      <td>地铁二号线</td>\n",
       "      <td>东角头</td>\n",
       "      <td>IGT-111</td>\n",
       "      <td>进站</td>\n",
       "    </tr>\n",
       "    <tr>\n",
       "      <th>16294812</th>\n",
       "      <td>290838579</td>\n",
       "      <td>0</td>\n",
       "      <td>0.0</td>\n",
       "      <td>2014-06-13 08:38:39</td>\n",
       "      <td>地铁二号线</td>\n",
       "      <td>湾厦</td>\n",
       "      <td>IGT-107</td>\n",
       "      <td>进站</td>\n",
       "    </tr>\n",
       "    <tr>\n",
       "      <th>16294813</th>\n",
       "      <td>322324063</td>\n",
       "      <td>0</td>\n",
       "      <td>0.0</td>\n",
       "      <td>2014-06-13 08:39:06</td>\n",
       "      <td>地铁二号线</td>\n",
       "      <td>湾厦</td>\n",
       "      <td>IGT-109</td>\n",
       "      <td>进站</td>\n",
       "    </tr>\n",
       "    <tr>\n",
       "      <th>16294814</th>\n",
       "      <td>329240241</td>\n",
       "      <td>0</td>\n",
       "      <td>0.0</td>\n",
       "      <td>2014-06-13 08:39:08</td>\n",
       "      <td>地铁二号线</td>\n",
       "      <td>湾厦</td>\n",
       "      <td>IGT-116</td>\n",
       "      <td>进站</td>\n",
       "    </tr>\n",
       "  </tbody>\n",
       "</table>\n",
       "<p>8157073 rows × 8 columns</p>\n",
       "</div>"
      ],
      "text/plain": [
       "            card_id  fee  actual_fee                time  route station  \\\n",
       "37        880001627    0         0.0 2014-06-09 00:00:05  地铁一号线   会展中心站   \n",
       "38        880200292    0         0.0 2014-06-09 00:01:24  地铁三号线      大运   \n",
       "39        880015200    0         0.0 2014-06-09 00:02:16  地铁五号线      塘朗   \n",
       "40        880010124    0         0.0 2014-06-09 00:04:06  地铁二号线     东角头   \n",
       "41        880016050    0         0.0 2014-06-09 00:03:58  地铁二号线      燕南   \n",
       "...             ...  ...         ...                 ...    ...     ...   \n",
       "16294810  294311396    0         0.0 2014-06-13 19:37:16  地铁二号线     东角头   \n",
       "16294811  327057456    0         0.0 2014-06-13 21:23:47  地铁二号线     东角头   \n",
       "16294812  290838579    0         0.0 2014-06-13 08:38:39  地铁二号线      湾厦   \n",
       "16294813  322324063    0         0.0 2014-06-13 08:39:06  地铁二号线      湾厦   \n",
       "16294814  329240241    0         0.0 2014-06-13 08:39:08  地铁二号线      湾厦   \n",
       "\n",
       "         train_id status  \n",
       "37        OGT-136     进站  \n",
       "38        AGM-105     进站  \n",
       "39        AGT-111     进站  \n",
       "40        IGT-111     进站  \n",
       "41        IGT-110     进站  \n",
       "...           ...    ...  \n",
       "16294810  IGT-109     进站  \n",
       "16294811  IGT-111     进站  \n",
       "16294812  IGT-107     进站  \n",
       "16294813  IGT-109     进站  \n",
       "16294814  IGT-116     进站  \n",
       "\n",
       "[8157073 rows x 8 columns]"
      ]
     },
     "execution_count": 3,
     "metadata": {},
     "output_type": "execute_result"
    }
   ],
   "source": [
    "combined_df_SZ[combined_df_SZ.status == '进站']"
   ]
  },
  {
   "cell_type": "code",
   "execution_count": 4,
   "metadata": {},
   "outputs": [
    {
     "name": "stdout",
     "output_type": "stream",
     "text": [
      "Number of cardholders: 2091578\n"
     ]
    }
   ],
   "source": [
    "print(\"Number of cardholders:\", combined_df_SZ['card_id'].nunique())"
   ]
  },
  {
   "cell_type": "code",
   "execution_count": 5,
   "metadata": {},
   "outputs": [
    {
     "data": {
      "text/plain": [
       "322567749    68\n",
       "880202774    62\n",
       "880018085    59\n",
       "880008030    56\n",
       "880201660    54\n",
       "             ..\n",
       "20471450      1\n",
       "290996219     1\n",
       "360728479     1\n",
       "326898653     1\n",
       "291409530     1\n",
       "Name: card_id, Length: 2089536, dtype: int64"
      ]
     },
     "execution_count": 5,
     "metadata": {},
     "output_type": "execute_result"
    }
   ],
   "source": [
    "card_id_count_SZ = combined_df_SZ[combined_df_SZ.status == '进站']['card_id'].value_counts()\n",
    "card_id_count_SZ"
   ]
  },
  {
   "cell_type": "code",
   "execution_count": 9,
   "metadata": {},
   "outputs": [
    {
     "data": {
      "image/png": "[encoded data removed]",
      "text/plain": [
       "<Figure size 600x400 with 1 Axes>"
      ]
     },
     "metadata": {},
     "output_type": "display_data"
    }
   ],
   "source": [
    "# Set the figure size\n",
    "plt.figure(figsize=(6, 4))\n",
    "\n",
    "# Plot the histogram with more bins\n",
    "card_id_count_SZ.plot(kind='hist', color='pink', edgecolor='black', bins=20)\n",
    "\n",
    "# Set the labels and title\n",
    "plt.xlabel('Travel Frequency', fontsize=12)\n",
    "plt.ylabel('Cardholders', fontsize=12)\n",
    "plt.title('Distribution of Travel Frequency of Bus Passengers in Shenzhen', fontsize=12)\n",
    "\n",
    "# Set y-axis tick labels in scientific notation\n",
    "plt.ticklabel_format(style='sci', axis='y', scilimits=(0,0))\n",
    "\n",
    "# Save the figure as 'output.png'\n",
    "plt.savefig('figs/Shenzhen_travel_freq.png')\n",
    "\n",
    "# Show the plot\n",
    "plt.show()\n"
   ]
  },
  {
   "cell_type": "code",
   "execution_count": null,
   "metadata": {},
   "outputs": [],
   "source": []
  }
 ],
 "metadata": {
  "kernelspec": {
   "display_name": "python-gis",
   "language": "python",
   "name": "python3"
  },
  "language_info": {
   "codemirror_mode": {
    "name": "ipython",
    "version": 3
   },
   "file_extension": ".py",
   "mimetype": "text/x-python",
   "name": "python",
   "nbconvert_exporter": "python",
   "pygments_lexer": "ipython3",
   "version": "3.12.1"
  }
 },
 "nbformat": 4,
 "nbformat_minor": 2
}
