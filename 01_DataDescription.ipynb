{
 "cells": [
  {
   "cell_type": "markdown",
   "metadata": {},
   "source": [
    "### Utrecht in The Netherland\n",
    "The dataset starts from 2017-01-01 to 2017-02-28."
   ]
  },
  {
   "cell_type": "code",
   "execution_count": null,
   "metadata": {},
   "outputs": [],
   "source": [
    "import pandas as pd\n",
    "\n",
    "# Specify the file path\n",
    "file_path = 'datasets/journeys.tsv'\n",
    "\n",
    "# Read the TSV file into a pandas DataFrame\n",
    "df_utrecht = pd.read_csv(file_path, sep='\\t', header=None)\n",
    "\n",
    "# Remove the last column\n",
    "df_utrecht = df_utrecht.drop(columns=df_utrecht.columns[-1])\n",
    "\n",
    "# Set the column names\n",
    "df_utrecht.columns = [\"card_id\", \"start_time\", \"end_time\", \"origin\", \"destination\"]\n",
    "\n",
    "# df_utrecht['start_time'] = pd.to_datetime(df_utrecht['start_time'])\n",
    "# df_utrecht['end_time'] = pd.to_datetime(df_utrecht['end_time'])"
   ]
  },
  {
   "cell_type": "code",
   "execution_count": null,
   "metadata": {},
   "outputs": [],
   "source": [
    "df_utrecht.head(10)"
   ]
  },
  {
   "cell_type": "markdown",
   "metadata": {},
   "source": [
    "#### Number of Cardholders"
   ]
  },
  {
   "cell_type": "code",
   "execution_count": null,
   "metadata": {},
   "outputs": [],
   "source": [
    "print(\"Number of cardholders:\", df_utrecht['card_id'].nunique())"
   ]
  },
  {
   "cell_type": "code",
   "execution_count": null,
   "metadata": {},
   "outputs": [],
   "source": [
    "utrecht_card_id_count = df_utrecht['card_id'].value_counts()\n",
    "utrecht_card_id_count"
   ]
  },
  {
   "cell_type": "code",
   "execution_count": null,
   "metadata": {},
   "outputs": [],
   "source": [
    "import matplotlib.pyplot as plt\n",
    "\n",
    "# Set the figure size\n",
    "plt.figure(figsize=(6, 4))\n",
    "\n",
    "# Plot the histogram\n",
    "utrecht_card_id_count.plot(kind='hist', color='skyblue', edgecolor='black')\n",
    "\n",
    "# Set the labels and title\n",
    "plt.xlabel('Travel Frequency', fontsize=12)\n",
    "plt.ylabel('Cardholders', fontsize=12)\n",
    "plt.title('Distribution of Travel Frequency of Bus Passengers in Utrecht', fontsize=12)\n",
    "\n",
    "# Set y-axis tick labels in scientific notation\n",
    "plt.ticklabel_format(style='sci', axis='y', scilimits=(0,0))\n",
    "\n",
    "# Add grid lines\n",
    "# plt.grid(True, linestyle='--', alpha=0.5)\n",
    "\n",
    "# Save the figure as 'output.png'\n",
    "plt.savefig('figs/utrecht_travel_freq.png')\n",
    "\n",
    "# Show the plot\n",
    "plt.show()\n"
   ]
  },
  {
   "cell_type": "markdown",
   "metadata": {},
   "source": [
    "### Shenzhen Metro\n",
    "The data spans from 2014-06-09 to 2014-06-13"
   ]
  },
  {
   "cell_type": "code",
   "execution_count": null,
   "metadata": {},
   "outputs": [],
   "source": [
    "import pandas as pd\n",
    "import glob\n",
    "\n",
    "# Specify the folder path\n",
    "folder_path = 'raw data/DT_GJC_地铁站刷卡数据/'\n",
    "\n",
    "# Get a list of all .csv files in the folder\n",
    "csv_files = glob.glob(folder_path + '*.csv')\n",
    "\n",
    "# Initialize an empty list to store the dataframes\n",
    "dfs_SZ = []\n",
    "\n",
    "# Loop through each .csv file and read it into a dataframe\n",
    "for file in csv_files:\n",
    "    df_SZ = pd.read_csv(file, encoding='gbk', header=None, sep=',')\n",
    "    dfs_SZ.append(df_SZ)\n",
    "\n",
    "# Concatenate the dataframes into a single dataframe\n",
    "combined_df_SZ = pd.concat(dfs_SZ, ignore_index=True)\n",
    "\n",
    "combined_df_SZ.columns = [\"card_id\", \"fee\", \"actual_fee\", \"time\", \"route\",\"station\",\"train_id\",\"status\"]\n",
    "\n",
    "# Convert the \"time\" column to timestamp\n",
    "combined_df_SZ['time'] = pd.to_datetime(combined_df_SZ['time'])\n"
   ]
  },
  {
   "cell_type": "markdown",
   "metadata": {},
   "source": [
    "#### Numer of total transactions"
   ]
  },
  {
   "cell_type": "code",
   "execution_count": null,
   "metadata": {},
   "outputs": [],
   "source": [
    "combined_df_SZ[combined_df_SZ.status == '进站']"
   ]
  },
  {
   "cell_type": "code",
   "execution_count": null,
   "metadata": {},
   "outputs": [],
   "source": [
    "print(\"Number of cardholders:\", combined_df_SZ['card_id'].nunique())"
   ]
  },
  {
   "cell_type": "code",
   "execution_count": null,
   "metadata": {},
   "outputs": [],
   "source": [
    "card_id_count_SZ = combined_df_SZ[combined_df_SZ.status == '进站']['card_id'].value_counts()\n",
    "card_id_count_SZ"
   ]
  },
  {
   "cell_type": "code",
   "execution_count": null,
   "metadata": {},
   "outputs": [],
   "source": [
    "# Set the figure size\n",
    "plt.figure(figsize=(6, 4))\n",
    "\n",
    "# Plot the histogram with more bins\n",
    "card_id_count_SZ.plot(kind='hist', color='pink', edgecolor='black', bins=20)\n",
    "\n",
    "# Set the labels and title\n",
    "plt.xlabel('Travel Frequency', fontsize=12)\n",
    "plt.ylabel('Cardholders', fontsize=12)\n",
    "plt.title('Distribution of Travel Frequency of Bus Passengers in Shenzhen', fontsize=12)\n",
    "\n",
    "# Set y-axis tick labels in scientific notation\n",
    "plt.ticklabel_format(style='sci', axis='y', scilimits=(0,0))\n",
    "\n",
    "# Save the figure as 'output.png'\n",
    "plt.savefig('figs/Shenzhen_travel_freq.png')\n",
    "\n",
    "# Show the plot\n",
    "plt.show()\n"
   ]
  },
  {
   "cell_type": "code",
   "execution_count": null,
   "metadata": {},
   "outputs": [],
   "source": []
  }
 ],
 "metadata": {
  "kernelspec": {
   "display_name": "python-gis",
   "language": "python",
   "name": "python3"
  },
  "language_info": {
   "codemirror_mode": {
    "name": "ipython",
    "version": 3
   },
   "file_extension": ".py",
   "mimetype": "text/x-python",
   "name": "python",
   "nbconvert_exporter": "python",
   "pygments_lexer": "ipython3",
   "version": "3.12.1"
  }
 },
 "nbformat": 4,
 "nbformat_minor": 2
}
